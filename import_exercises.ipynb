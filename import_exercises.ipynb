{
 "cells": [
  {
   "cell_type": "markdown",
   "id": "b86d8b2b",
   "metadata": {},
   "source": [
    "## 1. \n",
    "    Import and test 3 of the functions from your functions exercise file. Import each function in a different way:\n",
    "\n",
    "             a. Run an interactive python session and import the module. Call the is_vowel function using the . syntax.\n",
    "            b. Create a file named import_exericses.py. Within this file, use from to import the calculate_tip function directly. Call this function with values you choose and print the result.\n",
    "            c. Create a jupyter notebook named import_exercises.ipynb. Use from to import the get_letter_grade function and give it an alias. Test this function in your notebook.\n",
    "        Make sure your code that tests the function imports is run from the same directory that your functions exercise file is in."
   ]
  },
  {
   "cell_type": "code",
   "execution_count": 9,
   "id": "2d8879e7",
   "metadata": {},
   "outputs": [],
   "source": [
    "import function_exercises as func_ex"
   ]
  },
  {
   "cell_type": "code",
   "execution_count": 10,
   "id": "bda89db2",
   "metadata": {},
   "outputs": [
    {
     "ename": "AttributeError",
     "evalue": "module 'function_exercises' has no attribute 'is_vowel'",
     "output_type": "error",
     "traceback": [
      "\u001b[0;31m---------------------------------------------------------------------------\u001b[0m",
      "\u001b[0;31mAttributeError\u001b[0m                            Traceback (most recent call last)",
      "Input \u001b[0;32mIn [10]\u001b[0m, in \u001b[0;36m<cell line: 1>\u001b[0;34m()\u001b[0m\n\u001b[0;32m----> 1\u001b[0m \u001b[43mfunc_ex\u001b[49m\u001b[38;5;241;43m.\u001b[39;49m\u001b[43mis_vowel\u001b[49m(\u001b[38;5;124m'\u001b[39m\u001b[38;5;124ma\u001b[39m\u001b[38;5;124m'\u001b[39m)\n",
      "\u001b[0;31mAttributeError\u001b[0m: module 'function_exercises' has no attribute 'is_vowel'"
     ]
    }
   ],
   "source": [
    "func_ex.is_vowel('a')"
   ]
  },
  {
   "cell_type": "code",
   "execution_count": null,
   "id": "df410d2c",
   "metadata": {},
   "outputs": [],
   "source": []
  }
 ],
 "metadata": {
  "kernelspec": {
   "display_name": "Python 3 (ipykernel)",
   "language": "python",
   "name": "python3"
  },
  "language_info": {
   "codemirror_mode": {
    "name": "ipython",
    "version": 3
   },
   "file_extension": ".py",
   "mimetype": "text/x-python",
   "name": "python",
   "nbconvert_exporter": "python",
   "pygments_lexer": "ipython3",
   "version": "3.9.13"
  }
 },
 "nbformat": 4,
 "nbformat_minor": 5
}
