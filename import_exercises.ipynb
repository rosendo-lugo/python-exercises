{
 "cells": [
  {
   "cell_type": "markdown",
   "id": "b86d8b2b",
   "metadata": {},
   "source": [
    "## 1. \n",
    "    Import and test 3 of the functions from your functions exercise file. Import each function in a different way:"
   ]
  },
  {
   "cell_type": "code",
   "execution_count": 1,
   "id": "2d8879e7",
   "metadata": {},
   "outputs": [],
   "source": [
    "import function_exercises as func"
   ]
  },
  {
   "cell_type": "code",
   "execution_count": 2,
   "id": "bda89db2",
   "metadata": {},
   "outputs": [
    {
     "data": {
      "text/plain": [
       "True"
      ]
     },
     "execution_count": 2,
     "metadata": {},
     "output_type": "execute_result"
    }
   ],
   "source": [
    "func.is_vowel('a')"
   ]
  },
  {
   "cell_type": "code",
   "execution_count": 3,
   "id": "df410d2c",
   "metadata": {},
   "outputs": [],
   "source": [
    "import function_exercises"
   ]
  },
  {
   "cell_type": "code",
   "execution_count": 4,
   "id": "38295e5d",
   "metadata": {},
   "outputs": [
    {
     "data": {
      "text/plain": [
       "False"
      ]
     },
     "execution_count": 4,
     "metadata": {},
     "output_type": "execute_result"
    }
   ],
   "source": [
    "function_exercises.is_two('4')"
   ]
  },
  {
   "cell_type": "code",
   "execution_count": 6,
   "id": "46ebe931",
   "metadata": {},
   "outputs": [],
   "source": [
    "import function_exercises as func_ex"
   ]
  },
  {
   "cell_type": "code",
   "execution_count": 7,
   "id": "b72501ea",
   "metadata": {},
   "outputs": [
    {
     "data": {
      "text/plain": [
       "True"
      ]
     },
     "execution_count": 7,
     "metadata": {},
     "output_type": "execute_result"
    }
   ],
   "source": [
    "func_ex.is_consonant(('g'))"
   ]
  },
  {
   "cell_type": "markdown",
   "id": "a5c73ea0",
   "metadata": {},
   "source": [
    "a. Run an interactive python session and import the module. Call the is_vowel function using the . syntax."
   ]
  },
  {
   "cell_type": "code",
   "execution_count": 4,
   "id": "f0138b53",
   "metadata": {},
   "outputs": [
    {
     "data": {
      "text/plain": [
       "False"
      ]
     },
     "execution_count": 4,
     "metadata": {},
     "output_type": "execute_result"
    }
   ],
   "source": [
    "import function_exercises as funcex\n",
    "\n",
    "funcex.is_vowel('b')"
   ]
  },
  {
   "cell_type": "markdown",
   "id": "db562018",
   "metadata": {},
   "source": [
    "b. Create a file named import_exericses.py. Within this file, use from to import the calculate_tip function directly. Call this function with values you choose and print the result."
   ]
  },
  {
   "cell_type": "code",
   "execution_count": 5,
   "id": "cd7e025b",
   "metadata": {},
   "outputs": [
    {
     "data": {
      "text/plain": [
       "44.0"
      ]
     },
     "execution_count": 5,
     "metadata": {},
     "output_type": "execute_result"
    }
   ],
   "source": [
    "import import_exercises as imp\n",
    "imp.calculate_tip(40)"
   ]
  },
  {
   "cell_type": "markdown",
   "id": "fa1d420a",
   "metadata": {},
   "source": [
    "c. Create a jupyter notebook named import_exercises.ipynb. Use from to import the get_letter_grade function and give it an alias. Test this function in your notebook.\n",
    "\n",
    "Make sure your code that tests the function imports is run from the same directory that your functions exercise file is in.\n"
   ]
  },
  {
   "cell_type": "code",
   "execution_count": 12,
   "id": "6d68adf3",
   "metadata": {},
   "outputs": [],
   "source": [
    "from function_exercises import get_letter_grade as l_g"
   ]
  },
  {
   "cell_type": "code",
   "execution_count": 7,
   "id": "9a68b6be",
   "metadata": {},
   "outputs": [
    {
     "data": {
      "text/plain": [
       "'C'"
      ]
     },
     "execution_count": 7,
     "metadata": {},
     "output_type": "execute_result"
    }
   ],
   "source": [
    "l_g(78)"
   ]
  },
  {
   "cell_type": "markdown",
   "id": "e594f99a",
   "metadata": {},
   "source": [
    "### just trying to incorporate an input"
   ]
  },
  {
   "cell_type": "code",
   "execution_count": 15,
   "id": "cf6a259c",
   "metadata": {},
   "outputs": [
    {
     "name": "stdout",
     "output_type": "stream",
     "text": [
      "Enter Jonny's test score: 78\n"
     ]
    }
   ],
   "source": [
    "score = input(\"Enter Jonny's test score: \")\n",
    "if score == l_g:\n",
    "    print(\"This is his letter grade:\", l_g)"
   ]
  },
  {
   "cell_type": "code",
   "execution_count": null,
   "id": "d834e856",
   "metadata": {},
   "outputs": [],
   "source": []
  },
  {
   "cell_type": "markdown",
   "id": "d1990315",
   "metadata": {},
   "source": [
    "## 2.\n",
    "Read about and use the itertools module from the python standard library to help you solve the following problems (Hint: wrap the itertools results in a list to see the results)."
   ]
  },
  {
   "cell_type": "markdown",
   "id": "ecfff74d",
   "metadata": {},
   "source": [
    "How many different ways can you combine a single letter from \"abc\" with either 1, 2, or 3?"
   ]
  },
  {
   "cell_type": "markdown",
   "id": "25381440",
   "metadata": {},
   "source": [
    "### 2a.\n",
    "- itertools.chain(*iterables) (is the same acartisian product)"
   ]
  },
  {
   "cell_type": "code",
   "execution_count": 19,
   "id": "0001a1f2",
   "metadata": {},
   "outputs": [
    {
     "ename": "SyntaxError",
     "evalue": "invalid syntax (3850358573.py, line 2)",
     "output_type": "error",
     "traceback": [
      "\u001b[0;36m  Input \u001b[0;32mIn [19]\u001b[0;36m\u001b[0m\n\u001b[0;31m    def accumulate([1,2,3,4,5]):\u001b[0m\n\u001b[0m                   ^\u001b[0m\n\u001b[0;31mSyntaxError\u001b[0m\u001b[0;31m:\u001b[0m invalid syntax\n"
     ]
    }
   ],
   "source": [
    "def accumulate(iterable, func=operator.add, *, initial=None):\n",
    "    'Return running totals'\n",
    "    # accumulate([1,2,3,4,5]) --> 1 3 6 10 15\n",
    "    # accumulate([1,2,3,4,5], initial=100) --> 100 101 103 106 110 115\n",
    "    # accumulate([1,2,3,4,5], operator.mul) --> 1 2 6 24 120\n",
    "    it = iter(iterable)\n",
    "    total = initial\n",
    "    if initial is None:\n",
    "        try:\n",
    "            total = next(it)\n",
    "        except StopIteration:\n",
    "            return\n",
    "    yield total\n",
    "    for element in it:\n",
    "        total = func(total, element)\n",
    "        yield total"
   ]
  },
  {
   "cell_type": "code",
   "execution_count": 21,
   "id": "7e9d4c18",
   "metadata": {},
   "outputs": [
    {
     "ename": "NameError",
     "evalue": "name 'accumulate' is not defined",
     "output_type": "error",
     "traceback": [
      "\u001b[0;31m---------------------------------------------------------------------------\u001b[0m",
      "\u001b[0;31mNameError\u001b[0m                                 Traceback (most recent call last)",
      "Input \u001b[0;32mIn [21]\u001b[0m, in \u001b[0;36m<cell line: 1>\u001b[0;34m()\u001b[0m\n\u001b[0;32m----> 1\u001b[0m \u001b[43maccumulate\u001b[49m(\u001b[38;5;241m1\u001b[39m,\u001b[38;5;241m2\u001b[39m,\u001b[38;5;241m3\u001b[39m,\u001b[38;5;241m4\u001b[39m,\u001b[38;5;241m5\u001b[39m)\n",
      "\u001b[0;31mNameError\u001b[0m: name 'accumulate' is not defined"
     ]
    }
   ],
   "source": [
    "accumulate(1,2,3,4,5)"
   ]
  },
  {
   "cell_type": "code",
   "execution_count": 26,
   "id": "5221b131",
   "metadata": {},
   "outputs": [],
   "source": [
    "import itertools"
   ]
  },
  {
   "cell_type": "code",
   "execution_count": 27,
   "id": "3fb7bc32",
   "metadata": {},
   "outputs": [],
   "source": [
    "unicombos = itertools.product('abc',[1,2,3])"
   ]
  },
  {
   "cell_type": "code",
   "execution_count": 29,
   "id": "b215ba4a",
   "metadata": {
    "scrolled": true
   },
   "outputs": [
    {
     "data": {
      "text/plain": [
       "[('a', 1),\n",
       " ('a', 2),\n",
       " ('a', 3),\n",
       " ('b', 1),\n",
       " ('b', 2),\n",
       " ('b', 3),\n",
       " ('c', 1),\n",
       " ('c', 2),\n",
       " ('c', 3)]"
      ]
     },
     "execution_count": 29,
     "metadata": {},
     "output_type": "execute_result"
    }
   ],
   "source": [
    "list(unicombos)"
   ]
  },
  {
   "cell_type": "code",
   "execution_count": 31,
   "id": "d21ac441",
   "metadata": {},
   "outputs": [
    {
     "data": {
      "text/plain": [
       "9"
      ]
     },
     "execution_count": 31,
     "metadata": {},
     "output_type": "execute_result"
    }
   ],
   "source": [
    "len(list(itertools.product('abc',[1,2,3])))"
   ]
  },
  {
   "cell_type": "code",
   "execution_count": 32,
   "id": "89ac4ae8",
   "metadata": {},
   "outputs": [
    {
     "data": {
      "text/plain": [
       "9"
      ]
     },
     "execution_count": 32,
     "metadata": {},
     "output_type": "execute_result"
    }
   ],
   "source": [
    "arg1 = 'abc'\n",
    "arg2 = [1,2,3]\n",
    "len(list(itertools.product(arg1,arg2)))"
   ]
  },
  {
   "cell_type": "markdown",
   "id": "bdf620a9",
   "metadata": {},
   "source": [
    "How many different combinations are there of 2 letters from \"abcd\"?"
   ]
  },
  {
   "cell_type": "markdown",
   "id": "32aa32ae",
   "metadata": {},
   "source": [
    "ab, ac, ad, # they need to be unique # you cannot have ba"
   ]
  },
  {
   "cell_type": "code",
   "execution_count": 34,
   "id": "bbfcae42",
   "metadata": {},
   "outputs": [
    {
     "data": {
      "text/plain": [
       "[('a', 'b'), ('a', 'c'), ('a', 'd'), ('b', 'c'), ('b', 'd'), ('c', 'd')]"
      ]
     },
     "execution_count": 34,
     "metadata": {},
     "output_type": "execute_result"
    }
   ],
   "source": [
    "list(itertools.combinations('abcd',2))"
   ]
  },
  {
   "cell_type": "code",
   "execution_count": 35,
   "id": "f31ba493",
   "metadata": {},
   "outputs": [
    {
     "data": {
      "text/plain": [
       "6"
      ]
     },
     "execution_count": 35,
     "metadata": {},
     "output_type": "execute_result"
    }
   ],
   "source": [
    "len(list(itertools.combinations('abcd',2)))"
   ]
  },
  {
   "cell_type": "markdown",
   "id": "b2f7ec27",
   "metadata": {},
   "source": [
    "How many different permutations are there of 2 letters from \"abcd\"?"
   ]
  },
  {
   "cell_type": "code",
   "execution_count": 36,
   "id": "2326ec91",
   "metadata": {
    "scrolled": true
   },
   "outputs": [
    {
     "data": {
      "text/plain": [
       "[('a', 'b'),\n",
       " ('a', 'c'),\n",
       " ('a', 'd'),\n",
       " ('b', 'a'),\n",
       " ('b', 'c'),\n",
       " ('b', 'd'),\n",
       " ('c', 'a'),\n",
       " ('c', 'b'),\n",
       " ('c', 'd'),\n",
       " ('d', 'a'),\n",
       " ('d', 'b'),\n",
       " ('d', 'c')]"
      ]
     },
     "execution_count": 36,
     "metadata": {},
     "output_type": "execute_result"
    }
   ],
   "source": [
    "list(itertools.permutations('abcd',2))"
   ]
  },
  {
   "cell_type": "code",
   "execution_count": 37,
   "id": "a2f682d8",
   "metadata": {},
   "outputs": [
    {
     "data": {
      "text/plain": [
       "12"
      ]
     },
     "execution_count": 37,
     "metadata": {},
     "output_type": "execute_result"
    }
   ],
   "source": [
    "len(list(itertools.permutations('abcd',2)))"
   ]
  },
  {
   "cell_type": "markdown",
   "id": "6c33e831",
   "metadata": {},
   "source": [
    "## 3. \n",
    "\n",
    "Save this file as profiles.json inside of your exercises directory (right click -> save file as...)."
   ]
  },
  {
   "cell_type": "code",
   "execution_count": 42,
   "id": "66d5688a",
   "metadata": {},
   "outputs": [],
   "source": [
    "import json"
   ]
  },
  {
   "cell_type": "code",
   "execution_count": 43,
   "id": "79a35cea",
   "metadata": {},
   "outputs": [],
   "source": [
    "profiles = json.load(open('profiles.json')) # this file need to be saved in my directory"
   ]
  },
  {
   "cell_type": "markdown",
   "id": "f4a00c10",
   "metadata": {},
   "source": [
    "Use the load function from the json module to open this file."
   ]
  },
  {
   "cell_type": "code",
   "execution_count": 45,
   "id": "45814634",
   "metadata": {},
   "outputs": [
    {
     "data": {
      "text/plain": [
       "{'_id': '54e23c3e46ab53a440b580e8',\n",
       " 'index': 0,\n",
       " 'guid': '9962b468-ef3e-4993-b677-617469bc3008',\n",
       " 'isActive': False,\n",
       " 'balance': '$2,097.02',\n",
       " 'picture': 'http://placehold.it/32x32',\n",
       " 'age': 39,\n",
       " 'eyeColor': 'blue',\n",
       " 'name': 'Hebert Estes',\n",
       " 'gender': 'male',\n",
       " 'company': 'ANDRYX',\n",
       " 'email': 'hebertestes@andryx.com',\n",
       " 'phone': '+1 (866) 456-2268',\n",
       " 'address': '121 Emmons Avenue, Klondike, Kentucky, 5975',\n",
       " 'about': 'Sit cillum deserunt irure laboris tempor fugiat laboris. Amet commodo amet est incididunt. Dolore qui fugiat cillum pariatur dolore excepteur elit ipsum.\\r\\n',\n",
       " 'registered': '2014-11-10T01:44:03 +06:00',\n",
       " 'latitude': -80.157843,\n",
       " 'longitude': 161.93016,\n",
       " 'tags': ['sit', 'occaecat', 'non', 'ea', 'sit', 'laboris', 'exercitation'],\n",
       " 'friends': [{'id': 0, 'name': 'Tanisha Leonard'},\n",
       "  {'id': 1, 'name': 'Dennis Wilson'},\n",
       "  {'id': 2, 'name': 'Lupe Howe'}],\n",
       " 'greeting': 'Hello, Hebert Estes! You have 4 unread messages.',\n",
       " 'favoriteFruit': 'strawberry'}"
      ]
     },
     "execution_count": 45,
     "metadata": {},
     "output_type": "execute_result"
    }
   ],
   "source": [
    "profiles[0] # This is indexing on list (this is getting the first element of the list: this is a dictinary)"
   ]
  },
  {
   "cell_type": "code",
   "execution_count": 46,
   "id": "ae7e1081",
   "metadata": {},
   "outputs": [
    {
     "data": {
      "text/plain": [
       "'$2,097.02'"
      ]
     },
     "execution_count": 46,
     "metadata": {},
     "output_type": "execute_result"
    }
   ],
   "source": [
    "# (dictionary)[key]\n",
    "(profiles[0])['balance'] # don't forget to use the paranthesis"
   ]
  },
  {
   "cell_type": "code",
   "execution_count": 48,
   "id": "200a959d",
   "metadata": {},
   "outputs": [
    {
     "data": {
      "text/plain": [
       "str"
      ]
     },
     "execution_count": 48,
     "metadata": {},
     "output_type": "execute_result"
    }
   ],
   "source": [
    "type((profiles[0])['balance'])"
   ]
  },
  {
   "cell_type": "code",
   "execution_count": 49,
   "id": "0b9d05ef",
   "metadata": {},
   "outputs": [],
   "source": [
    "bal_ex=(profiles[0])['balance']"
   ]
  },
  {
   "cell_type": "code",
   "execution_count": 50,
   "id": "a69a29c1",
   "metadata": {},
   "outputs": [
    {
     "data": {
      "text/plain": [
       "'2097.02'"
      ]
     },
     "execution_count": 50,
     "metadata": {},
     "output_type": "execute_result"
    }
   ],
   "source": [
    "bal_ex.replace('$', '').replace(',', '')"
   ]
  },
  {
   "cell_type": "code",
   "execution_count": 95,
   "id": "d77b3c02",
   "metadata": {},
   "outputs": [
    {
     "ename": "ValueError",
     "evalue": "invalid literal for int() with base 10: '2097.02'",
     "output_type": "error",
     "traceback": [
      "\u001b[0;31m---------------------------------------------------------------------------\u001b[0m",
      "\u001b[0;31mValueError\u001b[0m                                Traceback (most recent call last)",
      "Input \u001b[0;32mIn [95]\u001b[0m, in \u001b[0;36m<cell line: 1>\u001b[0;34m()\u001b[0m\n\u001b[0;32m----> 1\u001b[0m \u001b[38;5;28;43mint\u001b[39;49m\u001b[43m(\u001b[49m\u001b[43mbal_ex\u001b[49m\u001b[38;5;241;43m.\u001b[39;49m\u001b[43mreplace\u001b[49m\u001b[43m(\u001b[49m\u001b[38;5;124;43m'\u001b[39;49m\u001b[38;5;124;43m$\u001b[39;49m\u001b[38;5;124;43m'\u001b[39;49m\u001b[43m,\u001b[49m\u001b[43m \u001b[49m\u001b[38;5;124;43m'\u001b[39;49m\u001b[38;5;124;43m'\u001b[39;49m\u001b[43m)\u001b[49m\u001b[38;5;241;43m.\u001b[39;49m\u001b[43mreplace\u001b[49m\u001b[43m(\u001b[49m\u001b[38;5;124;43m'\u001b[39;49m\u001b[38;5;124;43m,\u001b[39;49m\u001b[38;5;124;43m'\u001b[39;49m\u001b[43m,\u001b[49m\u001b[43m \u001b[49m\u001b[38;5;124;43m'\u001b[39;49m\u001b[38;5;124;43m'\u001b[39;49m\u001b[43m)\u001b[49m\u001b[43m)\u001b[49m\n",
      "\u001b[0;31mValueError\u001b[0m: invalid literal for int() with base 10: '2097.02'"
     ]
    }
   ],
   "source": [
    "int(bal_ex.replace('$', '').replace(',', '')) # fix this to make the other ones work"
   ]
  },
  {
   "cell_type": "code",
   "execution_count": 52,
   "id": "23f8bc60",
   "metadata": {},
   "outputs": [],
   "source": [
    "def clean_balance(balance):\n",
    "    balance = balance.replace(\"$\",\"\")\n",
    "    balance = balance.replace(\",\",\"\")\n",
    "    return float(balance)"
   ]
  },
  {
   "cell_type": "code",
   "execution_count": 94,
   "id": "15ffd30a",
   "metadata": {},
   "outputs": [
    {
     "data": {
      "text/plain": [
       "float"
      ]
     },
     "execution_count": 94,
     "metadata": {},
     "output_type": "execute_result"
    }
   ],
   "source": [
    "type(clean_balance((profiles[0])['balance']))"
   ]
  },
  {
   "cell_type": "code",
   "execution_count": 62,
   "id": "91e889d5",
   "metadata": {},
   "outputs": [
    {
     "ename": "SyntaxError",
     "evalue": "unexpected EOF while parsing (403983518.py, line 2)",
     "output_type": "error",
     "traceback": [
      "\u001b[0;36m  Input \u001b[0;32mIn [62]\u001b[0;36m\u001b[0m\n\u001b[0;31m    profile['balance'] = (clean_balance(profile['balance'])\u001b[0m\n\u001b[0m                                                           ^\u001b[0m\n\u001b[0;31mSyntaxError\u001b[0m\u001b[0;31m:\u001b[0m unexpected EOF while parsing\n"
     ]
    }
   ],
   "source": [
    "for profile in profiles:\n",
    "    profile['balance'] = (clean_balance(profile['balance'])"
   ]
  },
  {
   "cell_type": "code",
   "execution_count": 63,
   "id": "bb3948f2",
   "metadata": {},
   "outputs": [
    {
     "ename": "NameError",
     "evalue": "name 'profile' is not defined",
     "output_type": "error",
     "traceback": [
      "\u001b[0;31m---------------------------------------------------------------------------\u001b[0m",
      "\u001b[0;31mNameError\u001b[0m                                 Traceback (most recent call last)",
      "Input \u001b[0;32mIn [63]\u001b[0m, in \u001b[0;36m<cell line: 1>\u001b[0;34m()\u001b[0m\n\u001b[0;32m----> 1\u001b[0m \u001b[43mprofile\u001b[49m[\u001b[38;5;124m'\u001b[39m\u001b[38;5;124mbalance\u001b[39m\u001b[38;5;124m'\u001b[39m]\n",
      "\u001b[0;31mNameError\u001b[0m: name 'profile' is not defined"
     ]
    }
   ],
   "source": [
    "profile['balance']"
   ]
  },
  {
   "cell_type": "code",
   "execution_count": 65,
   "id": "cea60e0b",
   "metadata": {},
   "outputs": [
    {
     "ename": "NameError",
     "evalue": "name 'pprint' is not defined",
     "output_type": "error",
     "traceback": [
      "\u001b[0;31m---------------------------------------------------------------------------\u001b[0m",
      "\u001b[0;31mNameError\u001b[0m                                 Traceback (most recent call last)",
      "Input \u001b[0;32mIn [65]\u001b[0m, in \u001b[0;36m<cell line: 1>\u001b[0;34m()\u001b[0m\n\u001b[1;32m      1\u001b[0m \u001b[38;5;28;01mfor\u001b[39;00m profile \u001b[38;5;129;01min\u001b[39;00m profiles:\n\u001b[0;32m----> 2\u001b[0m     \u001b[43mpprint\u001b[49m\u001b[38;5;241m.\u001b[39mpprint(profile)\n\u001b[1;32m      3\u001b[0m     \u001b[38;5;28mprint\u001b[39m(\u001b[38;5;124m'\u001b[39m\u001b[38;5;124m-------------------\u001b[39m\u001b[38;5;124m'\u001b[39m, \u001b[38;5;124m'\u001b[39m\u001b[38;5;130;01m\\n\u001b[39;00m\u001b[38;5;124m'\u001b[39m)\n",
      "\u001b[0;31mNameError\u001b[0m: name 'pprint' is not defined"
     ]
    }
   ],
   "source": [
    "for profile in profiles:\n",
    "    pprint.pprint(profile)\n",
    "    print('-------------------', '\\n')"
   ]
  },
  {
   "cell_type": "markdown",
   "id": "e7d646f4",
   "metadata": {},
   "source": [
    "# 3.1\n",
    "\n",
    "    total number of users"
   ]
  },
  {
   "cell_type": "code",
   "execution_count": 66,
   "id": "1c132c7e",
   "metadata": {},
   "outputs": [
    {
     "data": {
      "text/plain": [
       "'54e23c3e46ab53a440b580e8'"
      ]
     },
     "execution_count": 66,
     "metadata": {},
     "output_type": "execute_result"
    }
   ],
   "source": [
    "profiles[0]['_id']"
   ]
  },
  {
   "cell_type": "code",
   "execution_count": 68,
   "id": "d05c9a35",
   "metadata": {},
   "outputs": [],
   "source": [
    "profile_ids = [profile['_id'] for profile in profiles]"
   ]
  },
  {
   "cell_type": "code",
   "execution_count": 69,
   "id": "4257a49a",
   "metadata": {},
   "outputs": [
    {
     "data": {
      "text/plain": [
       "{'54e23c3e09cc6875638cd36b',\n",
       " '54e23c3e0fd8074c2ca52667',\n",
       " '54e23c3e177caf5567ba87ac',\n",
       " '54e23c3e4192cf53edd67c99',\n",
       " '54e23c3e42676228c442a669',\n",
       " '54e23c3e46ab53a440b580e8',\n",
       " '54e23c3e4ac5969958013235',\n",
       " '54e23c3e502a2f526b689c3e',\n",
       " '54e23c3e54e4094147a3b1da',\n",
       " '54e23c3e69d22e49c7fe62de',\n",
       " '54e23c3e6d89c09f5507e7dd',\n",
       " '54e23c3eaffbb506aa15ec1c',\n",
       " '54e23c3eb112d96e4204914d',\n",
       " '54e23c3eb813e66c6d33aa82',\n",
       " '54e23c3ebd80e9c26b057fa3',\n",
       " '54e23c3ed945981ba2580614',\n",
       " '54e23c3eedcc65f0ec3a5496',\n",
       " '54e23c3ef30f14d0e5afddf3',\n",
       " '54e23c3ef5cc0d250968c212'}"
      ]
     },
     "execution_count": 69,
     "metadata": {},
     "output_type": "execute_result"
    }
   ],
   "source": [
    "set(profile_ids)"
   ]
  },
  {
   "cell_type": "code",
   "execution_count": 70,
   "id": "f7fd4c36",
   "metadata": {},
   "outputs": [
    {
     "data": {
      "text/plain": [
       "set"
      ]
     },
     "execution_count": 70,
     "metadata": {},
     "output_type": "execute_result"
    }
   ],
   "source": [
    "type(set(profile_ids))"
   ]
  },
  {
   "cell_type": "code",
   "execution_count": 71,
   "id": "5e025648",
   "metadata": {},
   "outputs": [
    {
     "data": {
      "text/plain": [
       "19"
      ]
     },
     "execution_count": 71,
     "metadata": {},
     "output_type": "execute_result"
    }
   ],
   "source": [
    "len(set(profile_ids))"
   ]
  },
  {
   "cell_type": "code",
   "execution_count": 72,
   "id": "e88dfea2",
   "metadata": {},
   "outputs": [
    {
     "data": {
      "text/plain": [
       "19"
      ]
     },
     "execution_count": 72,
     "metadata": {},
     "output_type": "execute_result"
    }
   ],
   "source": [
    "len(profiles)"
   ]
  },
  {
   "cell_type": "markdown",
   "id": "ef4937b6",
   "metadata": {},
   "source": [
    "### 3.2\n",
    "    Number of active users"
   ]
  },
  {
   "cell_type": "code",
   "execution_count": 77,
   "id": "1e024a68",
   "metadata": {},
   "outputs": [],
   "source": [
    "active_users = [profile for profile in profiles if profile['isActive']==True]"
   ]
  },
  {
   "cell_type": "code",
   "execution_count": 78,
   "id": "c22f1dcb",
   "metadata": {},
   "outputs": [
    {
     "data": {
      "text/plain": [
       "9"
      ]
     },
     "execution_count": 78,
     "metadata": {},
     "output_type": "execute_result"
    }
   ],
   "source": [
    "len(active_users)"
   ]
  },
  {
   "cell_type": "code",
   "execution_count": 80,
   "id": "1005c5b6",
   "metadata": {},
   "outputs": [],
   "source": [
    "actlist = []\n",
    "\n",
    "for profile in profiles:\n",
    "    if profile['isActive']==True:\n",
    "        actlist.append(profile)"
   ]
  },
  {
   "cell_type": "code",
   "execution_count": 81,
   "id": "405bd87b",
   "metadata": {},
   "outputs": [
    {
     "data": {
      "text/plain": [
       "[{'_id': '54e23c3e09cc6875638cd36b',\n",
       "  'index': 2,\n",
       "  'guid': '1b042d48-9cfa-4db5-8b60-4104165591c3',\n",
       "  'isActive': True,\n",
       "  'balance': '$1,536.02',\n",
       "  'picture': 'http://placehold.it/32x32',\n",
       "  'age': 31,\n",
       "  'eyeColor': 'brown',\n",
       "  'name': 'Jacobs Floyd',\n",
       "  'gender': 'male',\n",
       "  'company': 'QUONK',\n",
       "  'email': 'jacobsfloyd@quonk.com',\n",
       "  'phone': '+1 (853) 537-3315',\n",
       "  'address': '941 Cox Place, Bluffview, Georgia, 5882',\n",
       "  'about': 'Deserunt adipisicing proident exercitation cillum anim consectetur labore exercitation. Commodo reprehenderit laborum enim exercitation. Ullamco nulla culpa aliqua nisi fugiat consectetur deserunt nostrud in eu.\\r\\n',\n",
       "  'registered': '2014-07-30T03:17:32 +05:00',\n",
       "  'latitude': 30.215667,\n",
       "  'longitude': 68.831905,\n",
       "  'tags': ['est', 'aute', 'laborum', 'sint', 'anim', 'sit', 'consectetur'],\n",
       "  'friends': [{'id': 0, 'name': 'Robles Chan'},\n",
       "   {'id': 1, 'name': 'Whitfield Strickland'},\n",
       "   {'id': 2, 'name': 'Lina Melton'}],\n",
       "  'greeting': 'Hello, Jacobs Floyd! You have 5 unread messages.',\n",
       "  'favoriteFruit': 'apple'},\n",
       " {'_id': '54e23c3eaffbb506aa15ec1c',\n",
       "  'index': 5,\n",
       "  'guid': 'fc3e04d1-44c2-449e-891a-d4f8053d14a4',\n",
       "  'isActive': True,\n",
       "  'balance': '$1,694.42',\n",
       "  'picture': 'http://placehold.it/32x32',\n",
       "  'age': 30,\n",
       "  'eyeColor': 'brown',\n",
       "  'name': 'Camacho Cortez',\n",
       "  'gender': 'male',\n",
       "  'company': 'EARTHWAX',\n",
       "  'email': 'camachocortez@earthwax.com',\n",
       "  'phone': '+1 (869) 528-2019',\n",
       "  'address': '101 Haring Street, Nicut, Louisiana, 1473',\n",
       "  'about': 'Qui ad commodo elit voluptate cupidatat exercitation amet ea laborum sunt aliquip nisi irure. Veniam voluptate eiusmod sint aliquip ea. Voluptate voluptate Lorem nulla laborum eiusmod occaecat et nostrud sint in cillum reprehenderit magna nulla. Lorem id fugiat laborum qui mollit amet. Culpa officia ipsum nisi culpa in. Fugiat quis eu cupidatat non culpa in ea velit pariatur non in excepteur.\\r\\n',\n",
       "  'registered': '2014-03-17T12:04:00 +05:00',\n",
       "  'latitude': 74.434627,\n",
       "  'longitude': 69.527088,\n",
       "  'tags': ['et', 'sit', 'in', 'id', 'ullamco', 'elit', 'laborum'],\n",
       "  'friends': [{'id': 0, 'name': 'Sexton Tillman'},\n",
       "   {'id': 1, 'name': 'Boone Steele'},\n",
       "   {'id': 2, 'name': 'Elvia Ward'}],\n",
       "  'greeting': 'Hello, Camacho Cortez! You have 19 unread messages.',\n",
       "  'favoriteFruit': 'apple'},\n",
       " {'_id': '54e23c3ebd80e9c26b057fa3',\n",
       "  'index': 9,\n",
       "  'guid': '75991ca5-05ed-499e-bbb5-f057f86d05d7',\n",
       "  'isActive': True,\n",
       "  'balance': '$2,839.22',\n",
       "  'picture': 'http://placehold.it/32x32',\n",
       "  'age': 37,\n",
       "  'eyeColor': 'blue',\n",
       "  'name': 'Corine French',\n",
       "  'gender': 'female',\n",
       "  'company': 'INTRAWEAR',\n",
       "  'email': 'corinefrench@intrawear.com',\n",
       "  'phone': '+1 (987) 573-3164',\n",
       "  'address': '964 Clara Street, Snyderville, Oklahoma, 3627',\n",
       "  'about': 'Sint cillum laborum labore duis fugiat voluptate adipisicing. Ad culpa et et ea incididunt nulla excepteur officia. Cillum veniam amet ipsum reprehenderit do eiusmod aliqua aute nisi Lorem consectetur esse in incididunt.\\r\\n',\n",
       "  'registered': '2014-06-25T20:17:13 +05:00',\n",
       "  'latitude': -37.637422,\n",
       "  'longitude': 154.195523,\n",
       "  'tags': ['laboris',\n",
       "   'in',\n",
       "   'dolore',\n",
       "   'mollit',\n",
       "   'velit',\n",
       "   'laboris',\n",
       "   'excepteur'],\n",
       "  'friends': [{'id': 0, 'name': 'Greta Hill'},\n",
       "   {'id': 1, 'name': 'Cline Curry'},\n",
       "   {'id': 2, 'name': 'Branch Sawyer'}],\n",
       "  'greeting': 'Hello, Corine French! You have 18 unread messages.',\n",
       "  'favoriteFruit': 'banana'},\n",
       " {'_id': '54e23c3e6d89c09f5507e7dd',\n",
       "  'index': 10,\n",
       "  'guid': '87cffc18-3acf-40c5-8708-1bb93f1b68de',\n",
       "  'isActive': True,\n",
       "  'balance': '$2,467.31',\n",
       "  'picture': 'http://placehold.it/32x32',\n",
       "  'age': 29,\n",
       "  'eyeColor': 'blue',\n",
       "  'name': 'Trudy Cummings',\n",
       "  'gender': 'female',\n",
       "  'company': 'SPLINX',\n",
       "  'email': 'trudycummings@splinx.com',\n",
       "  'phone': '+1 (925) 403-2797',\n",
       "  'address': '558 Charles Place, Tedrow, California, 9832',\n",
       "  'about': 'Non id adipisicing deserunt non magna ex adipisicing sint esse sint. Laborum ea nostrud Lorem voluptate quis proident eu nisi exercitation in. Consequat occaecat proident officia anim.\\r\\n',\n",
       "  'registered': '2014-03-13T17:54:31 +05:00',\n",
       "  'latitude': -36.185131,\n",
       "  'longitude': -37.774906,\n",
       "  'tags': ['aute', 'occaecat', 'ea', 'pariatur', 'consectetur', 'magna', 'ea'],\n",
       "  'friends': [{'id': 0, 'name': 'Amber Gates'},\n",
       "   {'id': 1, 'name': 'Barron Walsh'},\n",
       "   {'id': 2, 'name': 'Nell Bolton'}],\n",
       "  'greeting': 'Hello, Trudy Cummings! You have 2 unread messages.',\n",
       "  'favoriteFruit': 'strawberry'},\n",
       " {'_id': '54e23c3e4192cf53edd67c99',\n",
       "  'index': 11,\n",
       "  'guid': '5a5496f1-a027-4c21-85da-c399234cd9a5',\n",
       "  'isActive': True,\n",
       "  'balance': '$3,304.99',\n",
       "  'picture': 'http://placehold.it/32x32',\n",
       "  'age': 21,\n",
       "  'eyeColor': 'brown',\n",
       "  'name': 'Peggy Mayer',\n",
       "  'gender': 'female',\n",
       "  'company': 'ACCUPRINT',\n",
       "  'email': 'peggymayer@accuprint.com',\n",
       "  'phone': '+1 (854) 428-2585',\n",
       "  'address': '830 Willmohr Street, Crenshaw, Missouri, 6032',\n",
       "  'about': 'Aliqua sit enim cillum aliquip ad proident excepteur in consectetur eiusmod. Ipsum sint cillum veniam eiusmod aute sunt et do est tempor. Lorem elit dolor dolore incididunt cillum. Enim occaecat minim sunt cillum est velit cillum deserunt tempor eu.\\r\\n',\n",
       "  'registered': '2014-09-14T07:06:49 +05:00',\n",
       "  'latitude': 48.323912,\n",
       "  'longitude': 22.184821,\n",
       "  'tags': ['commodo', 'esse', 'ad', 'ullamco', 'ea', 'sint', 'ipsum'],\n",
       "  'friends': [{'id': 0, 'name': 'Hopkins Mccall'},\n",
       "   {'id': 1, 'name': 'Nielsen Weeks'},\n",
       "   {'id': 2, 'name': 'Dale Knowles'}],\n",
       "  'greeting': 'Hello, Peggy Mayer! You have 13 unread messages.',\n",
       "  'favoriteFruit': 'strawberry'},\n",
       " {'_id': '54e23c3eb813e66c6d33aa82',\n",
       "  'index': 13,\n",
       "  'guid': '6fd14a8e-3158-48eb-a7e1-93fe57b74746',\n",
       "  'isActive': True,\n",
       "  'balance': '$3,594.99',\n",
       "  'picture': 'http://placehold.it/32x32',\n",
       "  'age': 40,\n",
       "  'eyeColor': 'blue',\n",
       "  'name': 'Diaz Pena',\n",
       "  'gender': 'male',\n",
       "  'company': 'SUREPLEX',\n",
       "  'email': 'diazpena@sureplex.com',\n",
       "  'phone': '+1 (986) 511-3050',\n",
       "  'address': '184 Kingsway Place, Grantville, Michigan, 2421',\n",
       "  'about': 'Enim elit amet officia consectetur do Lorem reprehenderit cupidatat exercitation velit. Ex tempor esse consectetur dolore aute et. Cupidatat duis nulla in incididunt nulla ullamco non magna officia commodo anim. Labore quis ullamco est deserunt excepteur duis nostrud deserunt cillum proident. Non eiusmod consectetur pariatur deserunt irure quis exercitation ex incididunt quis dolore pariatur sunt irure. Eu do fugiat laboris tempor culpa.\\r\\n',\n",
       "  'registered': '2014-04-19T20:43:12 +05:00',\n",
       "  'latitude': 6.606991,\n",
       "  'longitude': 81.593748,\n",
       "  'tags': ['excepteur',\n",
       "   'elit',\n",
       "   'ullamco',\n",
       "   'excepteur',\n",
       "   'ad',\n",
       "   'quis',\n",
       "   'dolore'],\n",
       "  'friends': [{'id': 0, 'name': 'Mcmillan Knox'},\n",
       "   {'id': 1, 'name': 'Flossie Dixon'},\n",
       "   {'id': 2, 'name': 'Sears Carson'}],\n",
       "  'greeting': 'Hello, Diaz Pena! You have 13 unread messages.',\n",
       "  'favoriteFruit': 'strawberry'},\n",
       " {'_id': '54e23c3e502a2f526b689c3e',\n",
       "  'index': 14,\n",
       "  'guid': '459cc82d-7878-42cb-b9c6-073506380036',\n",
       "  'isActive': True,\n",
       "  'balance': '$2,940.24',\n",
       "  'picture': 'http://placehold.it/32x32',\n",
       "  'age': 40,\n",
       "  'eyeColor': 'brown',\n",
       "  'name': 'Heath Castaneda',\n",
       "  'gender': 'male',\n",
       "  'company': 'NETPLODE',\n",
       "  'email': 'heathcastaneda@netplode.com',\n",
       "  'phone': '+1 (944) 478-3741',\n",
       "  'address': '278 Village Road, Sunnyside, Massachusetts, 7496',\n",
       "  'about': 'Consectetur mollit cupidatat ex consectetur eiusmod ut. Cupidatat anim cupidatat cupidatat minim ipsum et quis amet proident pariatur. Do consectetur fugiat quis nisi non. Ut eu consequat consequat in ullamco eiusmod quis cillum sunt dolore anim. Non irure aliqua aliqua enim elit labore consequat.\\r\\n',\n",
       "  'registered': '2014-07-30T21:38:43 +05:00',\n",
       "  'latitude': 69.928876,\n",
       "  'longitude': 33.649878,\n",
       "  'tags': ['elit', 'commodo', 'ut', 'ullamco', 'ullamco', 'velit', 'ullamco'],\n",
       "  'friends': [{'id': 0, 'name': 'Dora Mack'},\n",
       "   {'id': 1, 'name': 'Christensen Camacho'},\n",
       "   {'id': 2, 'name': 'Castro Kelly'}],\n",
       "  'greeting': 'Hello, Heath Castaneda! You have 12 unread messages.',\n",
       "  'favoriteFruit': 'strawberry'},\n",
       " {'_id': '54e23c3e4ac5969958013235',\n",
       "  'index': 17,\n",
       "  'guid': 'fa7e26df-d239-41e8-9aa9-be5e808b6f89',\n",
       "  'isActive': True,\n",
       "  'balance': '$2,646.76',\n",
       "  'picture': 'http://placehold.it/32x32',\n",
       "  'age': 24,\n",
       "  'eyeColor': 'brown',\n",
       "  'name': 'Leanne Hurst',\n",
       "  'gender': 'female',\n",
       "  'company': 'ACCIDENCY',\n",
       "  'email': 'leannehurst@accidency.com',\n",
       "  'phone': '+1 (820) 420-3317',\n",
       "  'address': '196 Columbus Place, Carbonville, New Jersey, 7513',\n",
       "  'about': 'Dolor occaecat dolore ut tempor. Veniam elit anim duis do pariatur. Qui excepteur nisi eiusmod mollit laboris fugiat commodo ipsum reprehenderit labore cillum. Aliquip laborum commodo nisi cupidatat labore nostrud exercitation adipisicing mollit eu magna proident ex Lorem. Nostrud magna sint sint consequat consectetur et sint.\\r\\n',\n",
       "  'registered': '2014-11-10T01:25:55 +06:00',\n",
       "  'latitude': 16.671695,\n",
       "  'longitude': 139.707959,\n",
       "  'tags': ['culpa',\n",
       "   'deserunt',\n",
       "   'tempor',\n",
       "   'quis',\n",
       "   'reprehenderit',\n",
       "   'incididunt',\n",
       "   'est'],\n",
       "  'friends': [{'id': 0, 'name': 'Farley Frank'},\n",
       "   {'id': 1, 'name': 'Pruitt Frye'},\n",
       "   {'id': 2, 'name': 'Simpson Cardenas'}],\n",
       "  'greeting': 'Hello, Leanne Hurst! You have 5 unread messages.',\n",
       "  'favoriteFruit': 'apple'},\n",
       " {'_id': '54e23c3ed945981ba2580614',\n",
       "  'index': 18,\n",
       "  'guid': 'e608dc5c-fee4-4086-971b-3ebd37bfa137',\n",
       "  'isActive': True,\n",
       "  'balance': '$2,227.79',\n",
       "  'picture': 'http://placehold.it/32x32',\n",
       "  'age': 22,\n",
       "  'eyeColor': 'brown',\n",
       "  'name': 'Ewing Larson',\n",
       "  'gender': 'male',\n",
       "  'company': 'ESCENTA',\n",
       "  'email': 'ewinglarson@escenta.com',\n",
       "  'phone': '+1 (943) 439-3760',\n",
       "  'address': '136 Beard Street, Wattsville, New Hampshire, 2803',\n",
       "  'about': 'Veniam eiusmod exercitation culpa mollit reprehenderit ullamco voluptate voluptate irure qui duis anim et. Laborum dolor quis do voluptate. In pariatur dolor id mollit et enim. Qui ex qui in cillum irure enim non reprehenderit irure et excepteur aliquip eu eu.\\r\\n',\n",
       "  'registered': '2014-07-21T19:17:41 +05:00',\n",
       "  'latitude': 15.903555,\n",
       "  'longitude': -159.721203,\n",
       "  'tags': ['Lorem',\n",
       "   'magna',\n",
       "   'dolor',\n",
       "   'aliquip',\n",
       "   'reprehenderit',\n",
       "   'eu',\n",
       "   'voluptate'],\n",
       "  'friends': [{'id': 0, 'name': 'Suzette Huffman'},\n",
       "   {'id': 1, 'name': 'Paige Santiago'},\n",
       "   {'id': 2, 'name': 'Dollie Fernandez'}],\n",
       "  'greeting': 'Hello, Ewing Larson! You have 16 unread messages.',\n",
       "  'favoriteFruit': 'strawberry'}]"
      ]
     },
     "execution_count": 81,
     "metadata": {},
     "output_type": "execute_result"
    }
   ],
   "source": [
    "actlist"
   ]
  },
  {
   "cell_type": "markdown",
   "id": "c0fd0af2",
   "metadata": {},
   "source": [
    "### 3.3\n",
    "    Number of inactive users"
   ]
  },
  {
   "cell_type": "code",
   "execution_count": 82,
   "id": "a450c6ab",
   "metadata": {},
   "outputs": [],
   "source": [
    "inactive_users = [profile for profile in profiles if profile['isActive']==False]"
   ]
  },
  {
   "cell_type": "code",
   "execution_count": 83,
   "id": "302fe8f9",
   "metadata": {},
   "outputs": [
    {
     "data": {
      "text/plain": [
       "10"
      ]
     },
     "execution_count": 83,
     "metadata": {},
     "output_type": "execute_result"
    }
   ],
   "source": [
    "len(inactive_users)"
   ]
  },
  {
   "cell_type": "markdown",
   "id": "77d05e22",
   "metadata": {},
   "source": [
    "## 3.4 \n",
    "    Grand total of balances for all users"
   ]
  },
  {
   "cell_type": "code",
   "execution_count": 88,
   "id": "7757ffed",
   "metadata": {},
   "outputs": [
    {
     "data": {
      "text/plain": [
       "'$2,097.02'"
      ]
     },
     "execution_count": 88,
     "metadata": {},
     "output_type": "execute_result"
    }
   ],
   "source": [
    "profiles[0]['balance']"
   ]
  },
  {
   "cell_type": "code",
   "execution_count": 89,
   "id": "5c1035ce",
   "metadata": {},
   "outputs": [
    {
     "ename": "TypeError",
     "evalue": "unsupported operand type(s) for +=: 'int' and 'str'",
     "output_type": "error",
     "traceback": [
      "\u001b[0;31m---------------------------------------------------------------------------\u001b[0m",
      "\u001b[0;31mTypeError\u001b[0m                                 Traceback (most recent call last)",
      "Input \u001b[0;32mIn [89]\u001b[0m, in \u001b[0;36m<cell line: 2>\u001b[0;34m()\u001b[0m\n\u001b[1;32m      1\u001b[0m total_balance \u001b[38;5;241m=\u001b[39m \u001b[38;5;241m0\u001b[39m\n\u001b[1;32m      2\u001b[0m \u001b[38;5;28;01mfor\u001b[39;00m profile \u001b[38;5;129;01min\u001b[39;00m profiles:\n\u001b[0;32m----> 3\u001b[0m     total_balance \u001b[38;5;241m+\u001b[39m\u001b[38;5;241m=\u001b[39m profile[\u001b[38;5;124m'\u001b[39m\u001b[38;5;124mbalance\u001b[39m\u001b[38;5;124m'\u001b[39m]\n\u001b[1;32m      4\u001b[0m \u001b[38;5;28mprint\u001b[39m(\u001b[38;5;124mf\u001b[39m\u001b[38;5;124m\"\u001b[39m\u001b[38;5;124mGrand Total Balance for all user is: $\u001b[39m\u001b[38;5;132;01m{\u001b[39;00mtotal_balance\u001b[38;5;132;01m}\u001b[39;00m\u001b[38;5;124m\"\u001b[39m)\n",
      "\u001b[0;31mTypeError\u001b[0m: unsupported operand type(s) for +=: 'int' and 'str'"
     ]
    }
   ],
   "source": [
    "total_balance = 0\n",
    "for profile in profiles:\n",
    "    total_balance += profile['balance']\n",
    "print(f\"Grand Total Balance for all user is: ${total_balance}\")"
   ]
  },
  {
   "cell_type": "code",
   "execution_count": null,
   "id": "dfa0595f",
   "metadata": {},
   "outputs": [],
   "source": [
    "# 3.5"
   ]
  },
  {
   "cell_type": "code",
   "execution_count": null,
   "id": "c6ac97b6",
   "metadata": {},
   "outputs": [],
   "source": [
    "total_balance"
   ]
  },
  {
   "cell_type": "code",
   "execution_count": null,
   "id": "18d0d35c",
   "metadata": {},
   "outputs": [],
   "source": [
    "total_num_users = len(set(profile_ids))"
   ]
  },
  {
   "cell_type": "code",
   "execution_count": null,
   "id": "a5bcfc79",
   "metadata": {},
   "outputs": [],
   "source": [
    "total_num_users"
   ]
  },
  {
   "cell_type": "code",
   "execution_count": null,
   "id": "a9ae14c2",
   "metadata": {},
   "outputs": [],
   "source": [
    "average_balance = total_balance / total_num_users"
   ]
  },
  {
   "cell_type": "code",
   "execution_count": null,
   "id": "a7f656f9",
   "metadata": {},
   "outputs": [],
   "source": [
    "average_balance"
   ]
  },
  {
   "cell_type": "code",
   "execution_count": null,
   "id": "8a80ade4",
   "metadata": {},
   "outputs": [],
   "source": [
    "rounded_avg_bal = round(average_balance, 2)"
   ]
  },
  {
   "cell_type": "code",
   "execution_count": null,
   "id": "3484efe6",
   "metadata": {},
   "outputs": [],
   "source": [
    "rounded_avg_bal"
   ]
  },
  {
   "cell_type": "markdown",
   "id": "16a1c673",
   "metadata": {},
   "source": [
    "3.6\n",
    "\n",
    "User with the lowest balance"
   ]
  },
  {
   "cell_type": "code",
   "execution_count": 90,
   "id": "57f149e0",
   "metadata": {},
   "outputs": [
    {
     "data": {
      "text/plain": [
       "['$2,097.02',\n",
       " '$3,654.02',\n",
       " '$1,536.02',\n",
       " '$3,919.64',\n",
       " '$3,681.39',\n",
       " '$1,694.42',\n",
       " '$1,214.10',\n",
       " '$2,930.31',\n",
       " '$1,944.15',\n",
       " '$2,839.22',\n",
       " '$2,467.31',\n",
       " '$3,304.99',\n",
       " '$3,844.42',\n",
       " '$3,594.99',\n",
       " '$2,940.24',\n",
       " '$3,062.41',\n",
       " '$3,067.82',\n",
       " '$2,646.76',\n",
       " '$2,227.79']"
      ]
     },
     "execution_count": 90,
     "metadata": {},
     "output_type": "execute_result"
    }
   ],
   "source": [
    "[profile['balance'] for profile in profiles]"
   ]
  },
  {
   "cell_type": "code",
   "execution_count": 91,
   "id": "10ed31af",
   "metadata": {},
   "outputs": [],
   "source": [
    "list_of_balances = [profile['balance'] for profile in profiles]"
   ]
  },
  {
   "cell_type": "code",
   "execution_count": 92,
   "id": "dd11fdc9",
   "metadata": {},
   "outputs": [
    {
     "data": {
      "text/plain": [
       "'$1,214.10'"
      ]
     },
     "execution_count": 92,
     "metadata": {},
     "output_type": "execute_result"
    }
   ],
   "source": [
    "min(list_of_balances)"
   ]
  },
  {
   "cell_type": "code",
   "execution_count": 93,
   "id": "762a0a1a",
   "metadata": {},
   "outputs": [
    {
     "ename": "SyntaxError",
     "evalue": "EOL while scanning string literal (2790683658.py, line 3)",
     "output_type": "error",
     "traceback": [
      "\u001b[0;36m  Input \u001b[0;32mIn [93]\u001b[0;36m\u001b[0m\n\u001b[0;31m    print(f\"User {profile['name']} has the lowest balance of {profile['balance']}\"\")\u001b[0m\n\u001b[0m                                                                                    ^\u001b[0m\n\u001b[0;31mSyntaxError\u001b[0m\u001b[0;31m:\u001b[0m EOL while scanning string literal\n"
     ]
    }
   ],
   "source": [
    "for profile in profiles:\n",
    "    if profile['balance'] == min(list_of_balances):\n",
    "        print(f\"User {profile['name']} has the lowest balance of {profile['balance']}\"\")"
   ]
  },
  {
   "cell_type": "code",
   "execution_count": 96,
   "id": "240c42b3",
   "metadata": {},
   "outputs": [],
   "source": [
    "## 3.7"
   ]
  },
  {
   "cell_type": "code",
   "execution_count": 97,
   "id": "e425138a",
   "metadata": {},
   "outputs": [
    {
     "ename": "SyntaxError",
     "evalue": "EOL while scanning string literal (1781175659.py, line 3)",
     "output_type": "error",
     "traceback": [
      "\u001b[0;36m  Input \u001b[0;32mIn [97]\u001b[0;36m\u001b[0m\n\u001b[0;31m    print(f\"User {profile['name']} has the lowest balance of {profile['balance']}\"\")\u001b[0m\n\u001b[0m                                                                                    ^\u001b[0m\n\u001b[0;31mSyntaxError\u001b[0m\u001b[0;31m:\u001b[0m EOL while scanning string literal\n"
     ]
    }
   ],
   "source": [
    "for profile in profiles:\n",
    "    if profile['balance'] == max(list_of_balances):\n",
    "        print(f\"User {profile['name']} has the lowest balance of {profile['balance']}\"\")"
   ]
  },
  {
   "cell_type": "code",
   "execution_count": 98,
   "id": "8f153322",
   "metadata": {},
   "outputs": [
    {
     "ename": "IndentationError",
     "evalue": "unexpected indent (2003958634.py, line 3)",
     "output_type": "error",
     "traceback": [
      "\u001b[0;36m  Input \u001b[0;32mIn [98]\u001b[0;36m\u001b[0m\n\u001b[0;31m    Most common favorite frout\u001b[0m\n\u001b[0m    ^\u001b[0m\n\u001b[0;31mIndentationError\u001b[0m\u001b[0;31m:\u001b[0m unexpected indent\n"
     ]
    }
   ],
   "source": [
    "## 3.8\n",
    "\n",
    "    Most common favorite frout"
   ]
  },
  {
   "cell_type": "code",
   "execution_count": 105,
   "id": "257b5d26",
   "metadata": {},
   "outputs": [
    {
     "data": {
      "text/plain": [
       "'strawberry'"
      ]
     },
     "execution_count": 105,
     "metadata": {},
     "output_type": "execute_result"
    }
   ],
   "source": [
    "profiles[0]['favoriteFruit']"
   ]
  },
  {
   "cell_type": "code",
   "execution_count": 106,
   "id": "3fed77c8",
   "metadata": {},
   "outputs": [],
   "source": [
    "fruits = []\n",
    "for profile in profiles:\n",
    "    fruits.append(profile['favoriteFruit'])"
   ]
  },
  {
   "cell_type": "markdown",
   "id": "482d387a",
   "metadata": {},
   "source": [
    "## 3.8"
   ]
  },
  {
   "cell_type": "code",
   "execution_count": 107,
   "id": "46dbab0b",
   "metadata": {},
   "outputs": [
    {
     "data": {
      "text/plain": [
       "{'apple', 'banana', 'strawberry'}"
      ]
     },
     "execution_count": 107,
     "metadata": {},
     "output_type": "execute_result"
    }
   ],
   "source": [
    "set(fruits)"
   ]
  },
  {
   "cell_type": "code",
   "execution_count": 108,
   "id": "44c64ed5",
   "metadata": {},
   "outputs": [
    {
     "data": {
      "text/plain": [
       "'strawberry'"
      ]
     },
     "execution_count": 108,
     "metadata": {},
     "output_type": "execute_result"
    }
   ],
   "source": [
    "max(fruits, key=fruits.count)"
   ]
  },
  {
   "cell_type": "code",
   "execution_count": 109,
   "id": "d5c90912",
   "metadata": {},
   "outputs": [
    {
     "data": {
      "text/plain": [
       "(6, 4, 9)"
      ]
     },
     "execution_count": 109,
     "metadata": {},
     "output_type": "execute_result"
    }
   ],
   "source": [
    "fruits.count('apple'),fruits.count('banana'),fruits.count('strawberry')"
   ]
  },
  {
   "cell_type": "markdown",
   "id": "97f07dec",
   "metadata": {},
   "source": [
    "## 3.9"
   ]
  },
  {
   "cell_type": "code",
   "execution_count": 133,
   "id": "6c92c6a4",
   "metadata": {},
   "outputs": [
    {
     "data": {
      "text/plain": [
       "'banana'"
      ]
     },
     "execution_count": 133,
     "metadata": {},
     "output_type": "execute_result"
    }
   ],
   "source": [
    "min(fruits, key=fruits.count)"
   ]
  },
  {
   "cell_type": "code",
   "execution_count": null,
   "id": "15f3c37a",
   "metadata": {},
   "outputs": [],
   "source": [
    "## 3.10"
   ]
  },
  {
   "cell_type": "code",
   "execution_count": 120,
   "id": "c5fde714",
   "metadata": {},
   "outputs": [
    {
     "data": {
      "text/plain": [
       "'Hello, Hebert Estes! You have 4 unread messages.'"
      ]
     },
     "execution_count": 120,
     "metadata": {},
     "output_type": "execute_result"
    }
   ],
   "source": [
    "profiles[0]['greeting']"
   ]
  },
  {
   "cell_type": "code",
   "execution_count": 121,
   "id": "15021b0c",
   "metadata": {},
   "outputs": [],
   "source": [
    "message = profiles[0]['greeting'].split(' ')"
   ]
  },
  {
   "cell_type": "code",
   "execution_count": 122,
   "id": "27869b21",
   "metadata": {},
   "outputs": [
    {
     "data": {
      "text/plain": [
       "['Hello,', 'Hebert', 'Estes!', 'You', 'have', '4', 'unread', 'messages.']"
      ]
     },
     "execution_count": 122,
     "metadata": {},
     "output_type": "execute_result"
    }
   ],
   "source": [
    "message"
   ]
  },
  {
   "cell_type": "code",
   "execution_count": 123,
   "id": "0bc1d532",
   "metadata": {},
   "outputs": [
    {
     "name": "stdout",
     "output_type": "stream",
     "text": [
      "This is a number:  4\n"
     ]
    }
   ],
   "source": [
    "for word in message:\n",
    "    if word.isdigit():\n",
    "        print(\"This is a number: \", word)"
   ]
  },
  {
   "cell_type": "code",
   "execution_count": 132,
   "id": "cdcdab8a",
   "metadata": {},
   "outputs": [],
   "source": [
    "\n",
    "sum_messages = 0\n",
    "for x in profiles:\n",
    "    message = x['greeting'].split(' ')\n",
    "    for word in message:\n",
    "        if word.isdigit():\n",
    "            sum_messages = sum_messages + int(word)"
   ]
  },
  {
   "cell_type": "code",
   "execution_count": 131,
   "id": "d5075695",
   "metadata": {},
   "outputs": [
    {
     "data": {
      "text/plain": [
       "210"
      ]
     },
     "execution_count": 131,
     "metadata": {},
     "output_type": "execute_result"
    }
   ],
   "source": [
    "sum_messages"
   ]
  },
  {
   "cell_type": "code",
   "execution_count": 126,
   "id": "84a8135e",
   "metadata": {},
   "outputs": [
    {
     "data": {
      "text/plain": [
       "{'_id': '54e23c3e46ab53a440b580e8',\n",
       " 'index': 0,\n",
       " 'guid': '9962b468-ef3e-4993-b677-617469bc3008',\n",
       " 'isActive': False,\n",
       " 'balance': '$2,097.02',\n",
       " 'picture': 'http://placehold.it/32x32',\n",
       " 'age': 39,\n",
       " 'eyeColor': 'blue',\n",
       " 'name': 'Hebert Estes',\n",
       " 'gender': 'male',\n",
       " 'company': 'ANDRYX',\n",
       " 'email': 'hebertestes@andryx.com',\n",
       " 'phone': '+1 (866) 456-2268',\n",
       " 'address': '121 Emmons Avenue, Klondike, Kentucky, 5975',\n",
       " 'about': 'Sit cillum deserunt irure laboris tempor fugiat laboris. Amet commodo amet est incididunt. Dolore qui fugiat cillum pariatur dolore excepteur elit ipsum.\\r\\n',\n",
       " 'registered': '2014-11-10T01:44:03 +06:00',\n",
       " 'latitude': -80.157843,\n",
       " 'longitude': 161.93016,\n",
       " 'tags': ['sit', 'occaecat', 'non', 'ea', 'sit', 'laboris', 'exercitation'],\n",
       " 'friends': [{'id': 0, 'name': 'Tanisha Leonard'},\n",
       "  {'id': 1, 'name': 'Dennis Wilson'},\n",
       "  {'id': 2, 'name': 'Lupe Howe'}],\n",
       " 'greeting': 'Hello, Hebert Estes! You have 4 unread messages.',\n",
       " 'favoriteFruit': 'strawberry'}"
      ]
     },
     "execution_count": 126,
     "metadata": {},
     "output_type": "execute_result"
    }
   ],
   "source": [
    "profiles[0], profiles[1], profiles[2]"
   ]
  },
  {
   "cell_type": "code",
   "execution_count": null,
   "id": "62fe1057",
   "metadata": {},
   "outputs": [],
   "source": []
  }
 ],
 "metadata": {
  "kernelspec": {
   "display_name": "Python 3 (ipykernel)",
   "language": "python",
   "name": "python3"
  },
  "language_info": {
   "codemirror_mode": {
    "name": "ipython",
    "version": 3
   },
   "file_extension": ".py",
   "mimetype": "text/x-python",
   "name": "python",
   "nbconvert_exporter": "python",
   "pygments_lexer": "ipython3",
   "version": "3.9.13"
  }
 },
 "nbformat": 4,
 "nbformat_minor": 5
}
