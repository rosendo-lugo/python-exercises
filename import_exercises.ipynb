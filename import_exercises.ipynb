{
 "cells": [
  {
   "cell_type": "markdown",
   "id": "b86d8b2b",
   "metadata": {},
   "source": [
    "## 1. \n",
    "    Import and test 3 of the functions from your functions exercise file. Import each function in a different way:\n",
    "\n",
    "\n",
    "\n",
    "            c. Create a jupyter notebook named import_exercises.ipynb. Use from to import the get_letter_grade function and give it an alias. Test this function in your notebook.\n",
    "        Make sure your code that tests the function imports is run from the same directory that your functions exercise file is in."
   ]
  },
  {
   "cell_type": "code",
   "execution_count": 1,
   "id": "2d8879e7",
   "metadata": {},
   "outputs": [],
   "source": [
    "import function_exercises as func"
   ]
  },
  {
   "cell_type": "code",
   "execution_count": 2,
   "id": "bda89db2",
   "metadata": {},
   "outputs": [
    {
     "data": {
      "text/plain": [
       "True"
      ]
     },
     "execution_count": 2,
     "metadata": {},
     "output_type": "execute_result"
    }
   ],
   "source": [
    "func.is_vowel('a')"
   ]
  },
  {
   "cell_type": "code",
   "execution_count": 4,
   "id": "df410d2c",
   "metadata": {},
   "outputs": [],
   "source": [
    "import function_exercises"
   ]
  },
  {
   "cell_type": "code",
   "execution_count": 5,
   "id": "38295e5d",
   "metadata": {},
   "outputs": [
    {
     "data": {
      "text/plain": [
       "False"
      ]
     },
     "execution_count": 5,
     "metadata": {},
     "output_type": "execute_result"
    }
   ],
   "source": [
    "function_exercises.is_two('4')"
   ]
  },
  {
   "cell_type": "code",
   "execution_count": 6,
   "id": "46ebe931",
   "metadata": {},
   "outputs": [],
   "source": [
    "import function_exercises as func_ex"
   ]
  },
  {
   "cell_type": "code",
   "execution_count": 7,
   "id": "b72501ea",
   "metadata": {},
   "outputs": [
    {
     "data": {
      "text/plain": [
       "True"
      ]
     },
     "execution_count": 7,
     "metadata": {},
     "output_type": "execute_result"
    }
   ],
   "source": [
    "func_ex.is_consonant(('g'))"
   ]
  },
  {
   "cell_type": "markdown",
   "id": "a5c73ea0",
   "metadata": {},
   "source": [
    "a. Run an interactive python session and import the module. Call the is_vowel function using the . syntax."
   ]
  },
  {
   "cell_type": "code",
   "execution_count": 8,
   "id": "f0138b53",
   "metadata": {},
   "outputs": [
    {
     "data": {
      "text/plain": [
       "False"
      ]
     },
     "execution_count": 8,
     "metadata": {},
     "output_type": "execute_result"
    }
   ],
   "source": [
    "import function_exercises as funcex\n",
    "\n",
    "funcex.is_vowel('b')"
   ]
  },
  {
   "cell_type": "markdown",
   "id": "db562018",
   "metadata": {},
   "source": [
    "b. Create a file named import_exericses.py. Within this file, use from to import the calculate_tip function directly. Call this function with values you choose and print the result."
   ]
  },
  {
   "cell_type": "code",
   "execution_count": null,
   "id": "cd7e025b",
   "metadata": {},
   "outputs": [],
   "source": []
  }
 ],
 "metadata": {
  "kernelspec": {
   "display_name": "Python 3 (ipykernel)",
   "language": "python",
   "name": "python3"
  },
  "language_info": {
   "codemirror_mode": {
    "name": "ipython",
    "version": 3
   },
   "file_extension": ".py",
   "mimetype": "text/x-python",
   "name": "python",
   "nbconvert_exporter": "python",
   "pygments_lexer": "ipython3",
   "version": "3.9.13"
  }
 },
 "nbformat": 4,
 "nbformat_minor": 5
}
