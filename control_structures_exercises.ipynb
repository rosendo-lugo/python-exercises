{
 "cells": [
  {
   "cell_type": "markdown",
   "id": "5907feba",
   "metadata": {},
   "source": [
    "## 1. Conditional Basics\n",
    "\n",
    "- a. Prompt the user for a day of the week, print out whether the day is Monday or not\n",
    "\n",
    "- b. Prompt the user for a day of the week, print out whether the day is a weekday or a weekend\n",
    "\n",
    "- c. Calculate a weekly paycheck, accounting for overtime pay. Create variables and make up values for:\n",
    "\n",
    "    - The number of hours worked in one week\n",
    "    - The hourly rate\n",
    "- For calculating pay:\n",
    "\n",
    "    - For working 40 hours or less, each hour is paid at the hourly rate\n",
    "    - For working more than 40 hours\n",
    "\n",
    "        - the first 40 hours are paid at the hourly rate\n",
    "\n",
    "        - each hour after 40 is paid at time and a half (hourly rate * 1.5)"
   ]
  },
  {
   "cell_type": "markdown",
   "id": "d670fea3",
   "metadata": {},
   "source": [
    "### a. Prompt the user for a day of the week, print out whether the day is Monday or not"
   ]
  },
  {
   "cell_type": "code",
   "execution_count": null,
   "id": "e115de44",
   "metadata": {},
   "outputs": [],
   "source": [
    "week_ls = ['Monday', 'Tusday', 'Wednesday', 'Thursday', 'Friday']"
   ]
  },
  {
   "cell_type": "code",
   "execution_count": null,
   "id": "2d2336b8",
   "metadata": {},
   "outputs": [],
   "source": [
    "week_ls"
   ]
  },
  {
   "cell_type": "code",
   "execution_count": null,
   "id": "3815168b",
   "metadata": {},
   "outputs": [],
   "source": [
    "# This didn't work as expected!\n",
    "day = input(\"What day of the week is today? \")\n",
    "\n",
    "for day in week_ls:\n",
    "    if day == 'Monday':\n",
    "        print(\"It's Monday!\")\n",
    "        break\n",
    "    else:\n",
    "        print(\"It's NOT\")\n",
    "        break"
   ]
  },
  {
   "cell_type": "code",
   "execution_count": null,
   "id": "59d63163",
   "metadata": {},
   "outputs": [],
   "source": [
    "# This didn't work as expected!\n",
    "day = input(\"What day of the week is today? \")\n",
    "\n",
    "#\n",
    "day = day.upper()\n",
    "\n",
    "for day in week_ls:\n",
    "    if day == 'Monday':\n",
    "        print(\"It's Monday!\")\n",
    "        break\n",
    "    else:\n",
    "        print(\"It's NOT\")\n",
    "        break"
   ]
  },
  {
   "cell_type": "code",
   "execution_count": 4,
   "id": "650732d5",
   "metadata": {},
   "outputs": [
    {
     "name": "stdout",
     "output_type": "stream",
     "text": [
      "What day of the week is today? Monday\n",
      "It's Monday\n"
     ]
    }
   ],
   "source": [
    "#     monday = 'Monday'\n",
    "#     tuesday = 'Tuesday'\n",
    "#     wednesday = 'Wednesday'\n",
    "#     thursday = 'Thursday'\n",
    "#     friday = 'Friday'\n",
    "\n",
    "today = input(\"What day of the week is today? \")\n",
    "\n",
    "if today == 'Monday':\n",
    "    print(\"It's Monday\")\n",
    "else:\n",
    "    print(\"It's NOT\", today)"
   ]
  },
  {
   "cell_type": "code",
   "execution_count": null,
   "id": "915788db",
   "metadata": {},
   "outputs": [],
   "source": [
    "#     monday = 'Monday'\n",
    "#     tuesday = 'Tuesday'\n",
    "#     wednesday = 'Wednesday'\n",
    "#     thursday = 'Thursday'\n",
    "#     friday = 'Friday'\n",
    "\n",
    "today = input(\"What day of the week is today? \")\n",
    "today = today.upper()\n",
    "\n",
    "if today == 'Monday':\n",
    "    print(\"It's Monday\")\n",
    "else:\n",
    "    print(\"It's NOT\", today)"
   ]
  },
  {
   "cell_type": "markdown",
   "id": "e3ccac90",
   "metadata": {},
   "source": [
    "### b. Prompt the user for a day of the week, print out whether the day is a weekday or a weekend"
   ]
  },
  {
   "cell_type": "code",
   "execution_count": null,
   "id": "f05294cd",
   "metadata": {},
   "outputs": [],
   "source": [
    "# weekday = ['Monday', 'Tusday', 'Wednesday', 'Thursday', 'Friday']\n",
    "# weekend = ['Saturday', 'Sunday']\n",
    "monday = 'Monday'\n",
    "tuesday = 'Tuesday'\n",
    "wednesday = 'Wednesday'\n",
    "thursday = 'Thursday'\n",
    "friday = 'Friday'\n",
    "\n",
    "today = input(\"Type in your favorite day? \")\n",
    "\n",
    "# for today in weekday:\n",
    "if today == monday:\n",
    "    print(today,\", it's a week day\")\n",
    "elif today == tuesday:\n",
    "    print(today,\", it's a week day\")\n",
    "elif today == wednesday:\n",
    "    print(today,\", it's a week day\")\n",
    "elif today == thursday:\n",
    "    print(today,\", it's a week day\")\n",
    "elif today == friday:\n",
    "    print(today,\", it's a week day\")\n",
    "\n",
    "else:\n",
    "    print(today,\"it's a weekend day\")\n",
    "#     else:\n",
    "#         print\n",
    "#     elif today == weekend:\n",
    "#         print(today, \"It's a weekend day\")"
   ]
  },
  {
   "cell_type": "code",
   "execution_count": null,
   "id": "38b60b21",
   "metadata": {},
   "outputs": [],
   "source": [
    "\n",
    "today = input(\"Type in your favorite day? \")\n",
    "\n",
    "if day == 'saturday':\n",
    "    print ('this is the weekend')\n",
    "\n",
    "    if day in weekend:\n",
    "        print('')"
   ]
  },
  {
   "cell_type": "markdown",
   "id": "5c5171ac",
   "metadata": {},
   "source": [
    "### c. Calculate a weekly paycheck, accounting for overtime pay. Create variables and make up values for:\n",
    "\n",
    "- The number of hours worked in one week\n",
    "- The hourly rate\n",
    "    - For calculating pay:\n",
    "    - For working 40 hours or less, each hour is paid at the hourly rate\n",
    "    - For working more than 40 hours\n",
    "    - the first 40 hours are paid at the hourly rate\n",
    "    - each hour after 40 is paid at time and a half (hourly rate * 1.5)"
   ]
  },
  {
   "cell_type": "code",
   "execution_count": null,
   "id": "76dbfe59",
   "metadata": {},
   "outputs": [],
   "source": [
    "hrs_worked = int(input(\"Enter the hours you worked this week? \"))\n",
    "\n",
    "hr_rate = float(8.75)\n",
    "h = float(hrs_worked)\n",
    "hrs_per_week = float(40)\n",
    "\n",
    "\n",
    "if h <= 40:\n",
    "    paycheck = h*hr_rate\n",
    "elif h > 40:\n",
    "    paycheck = ((h-hrs_per_week)*hr_rate*1.5)+hr_rate*hrs_per_week    \n",
    "print(\"Your pay is %.2f\" %paycheck) # decimal format\n"
   ]
  },
  {
   "cell_type": "markdown",
   "id": "863aaa60",
   "metadata": {},
   "source": [
    "# 2. Loop Basics\n",
    "\n",
    "## a. While\n"
   ]
  },
  {
   "cell_type": "markdown",
   "id": "074dfb90",
   "metadata": {},
   "source": [
    "### \n",
    "    Create an integer variable i with a value of 5. Create a while loop that runs so long as i is less than or equal to 15. Each loop iteration, output the current value of i, then increment i by one.\n",
    "    \n",
    "    Your output should look like this:\n",
    "    5\n",
    "    6\n",
    "    7\n",
    "    8\n",
    "    9\n",
    "    10\n",
    "    11\n",
    "    12\n",
    "    13\n",
    "    14\n",
    "    15"
   ]
  },
  {
   "cell_type": "code",
   "execution_count": 5,
   "id": "0957b90f",
   "metadata": {},
   "outputs": [
    {
     "name": "stdout",
     "output_type": "stream",
     "text": [
      "5\n",
      "6\n",
      "7\n",
      "8\n",
      "9\n",
      "10\n",
      "11\n",
      "12\n",
      "13\n",
      "14\n",
      "15\n"
     ]
    }
   ],
   "source": [
    "i = 5\n",
    "\n",
    "while i < 15:\n",
    "    print(i)\n",
    "    i = i + 1\n",
    "print(i)"
   ]
  },
  {
   "cell_type": "markdown",
   "id": "365d4577",
   "metadata": {},
   "source": [
    "    \n",
    " ### i. \n",
    "    Create a while loop that will count by 2's starting with 0 and ending at 100. Follow each number with a new line.\n"
   ]
  },
  {
   "cell_type": "code",
   "execution_count": 6,
   "id": "79264ca0",
   "metadata": {},
   "outputs": [
    {
     "name": "stdout",
     "output_type": "stream",
     "text": [
      "0\n",
      "2\n",
      "4\n",
      "6\n",
      "8\n",
      "10\n",
      "12\n",
      "14\n",
      "16\n",
      "18\n",
      "20\n",
      "22\n",
      "24\n",
      "26\n",
      "28\n",
      "30\n",
      "32\n",
      "34\n",
      "36\n",
      "38\n",
      "40\n",
      "42\n",
      "44\n",
      "46\n",
      "48\n",
      "50\n",
      "52\n",
      "54\n",
      "56\n",
      "58\n",
      "60\n",
      "62\n",
      "64\n",
      "66\n",
      "68\n",
      "70\n",
      "72\n",
      "74\n",
      "76\n",
      "78\n",
      "80\n",
      "82\n",
      "84\n",
      "86\n",
      "88\n",
      "90\n",
      "92\n",
      "94\n",
      "96\n",
      "98\n",
      "100\n"
     ]
    }
   ],
   "source": [
    "i = 0\n",
    "\n",
    "while i < 100:\n",
    "    print(i)\n",
    "    i = i + 2\n",
    "print(i)"
   ]
  },
  {
   "cell_type": "markdown",
   "id": "2c2210a9",
   "metadata": {},
   "source": [
    " ### ii. \n",
    "    Create a while loop that starts at 2, and displays the number squared on each line while the number is less than 1,000,000. Output should equal:\n",
    "     2\n",
    "     4\n",
    "     16\n",
    "     256\n",
    "     65536"
   ]
  },
  {
   "cell_type": "code",
   "execution_count": 8,
   "id": "6c1f77f1",
   "metadata": {},
   "outputs": [
    {
     "name": "stdout",
     "output_type": "stream",
     "text": [
      "2\n",
      "4\n",
      "16\n",
      "256\n",
      "65536\n"
     ]
    }
   ],
   "source": [
    "i = 2\n",
    "\n",
    "while i <= 1000000:\n",
    "    print(i)\n",
    "    i = i ** 2\n",
    "# print(i) it gives you the last number indented all the way to the left"
   ]
  },
  {
   "cell_type": "markdown",
   "id": "06236fdb",
   "metadata": {},
   "source": [
    "\n",
    "\n",
    "   ### iii. \n",
    "     Write a while loop that uses print to create the output shown below.\n",
    "\n",
    "    100\n",
    "    95\n",
    "    90\n",
    "    85\n",
    "    80\n",
    "    75\n",
    "    70\n",
    "    65\n",
    "    60\n",
    "    55\n",
    "    50\n",
    "    45\n",
    "    40\n",
    "    35\n",
    "    30\n",
    "    25\n",
    "    20\n",
    "    15\n",
    "    10\n",
    "    5"
   ]
  },
  {
   "cell_type": "code",
   "execution_count": 10,
   "id": "06364b28",
   "metadata": {},
   "outputs": [
    {
     "name": "stdout",
     "output_type": "stream",
     "text": [
      "100\n",
      "95\n",
      "90\n",
      "85\n",
      "80\n",
      "75\n",
      "70\n",
      "65\n",
      "60\n",
      "55\n",
      "50\n",
      "45\n",
      "40\n",
      "35\n",
      "30\n",
      "25\n",
      "20\n",
      "15\n",
      "10\n",
      "5\n"
     ]
    }
   ],
   "source": [
    "i = 100\n",
    "\n",
    "while i >= 5:\n",
    "    print(i)\n",
    "    i = i - 5\n",
    "# print(i)"
   ]
  },
  {
   "cell_type": "markdown",
   "id": "1115cb9d",
   "metadata": {},
   "source": [
    "## b. For Loops\n",
    "\n",
    "    i. Write some code using a for loop that prompts the user for a number, then shows a multiplication table up through 10 for that number.\n",
    "\n",
    "    - For example, if the user enters 7, your program should output:\n",
    "    7 x 1 = 7\n",
    "    7 x 2 = 14\n",
    "    7 x 3 = 21\n",
    "    7 x 4 = 28\n",
    "    7 x 5 = 35\n",
    "    7 x 6 = 42\n",
    "    7 x 7 = 49\n",
    "    7 x 8 = 56\n",
    "    7 x 9 = 63\n",
    "    7 x 10 = 70\n",
    "\n"
   ]
  },
  {
   "cell_type": "code",
   "execution_count": 17,
   "id": "1bcc70c3",
   "metadata": {},
   "outputs": [
    {
     "name": "stdout",
     "output_type": "stream",
     "text": [
      "Enter a number: 7\n",
      "7 x 1 = 7\n",
      "7 x 2 = 14\n",
      "7 x 3 = 21\n",
      "7 x 4 = 28\n",
      "7 x 5 = 35\n",
      "7 x 6 = 42\n",
      "7 x 7 = 49\n",
      "7 x 8 = 56\n",
      "7 x 9 = 63\n",
      "7 x 10 = 70\n"
     ]
    }
   ],
   "source": [
    "#ask the user for a number\n",
    "user_num = int(input(\"Enter a number: \"))\n",
    "\n",
    "# build the for loop using range\n",
    "for i in range(1, 11):\n",
    "    print(user_num, 'x', i, '=', user_num * i)"
   ]
  },
  {
   "cell_type": "markdown",
   "id": "4ce58c0a",
   "metadata": {},
   "source": [
    "### i. \n",
    "    Create a for loop that uses print to create the output shown below.\n",
    "    1\n",
    "    22\n",
    "    333\n",
    "    4444\n",
    "    55555\n",
    "    666666\n",
    "    7777777\n",
    "    88888888\n",
    "    999999999"
   ]
  },
  {
   "cell_type": "code",
   "execution_count": 32,
   "id": "81c8f1e2",
   "metadata": {
    "scrolled": true
   },
   "outputs": [
    {
     "name": "stdout",
     "output_type": "stream",
     "text": [
      "1\n",
      "22\n",
      "333\n",
      "4444\n",
      "55555\n",
      "666666\n",
      "7777777\n",
      "88888888\n",
      "999999999\n"
     ]
    }
   ],
   "source": [
    "# n is the number of rows\n",
    "n = 9\n",
    "\n",
    "# build two for loops to create the line pattern\n",
    "for i in range(1, n + 1):\n",
    "    for j in range(1, i + 1):\n",
    "        print(i, end=\"\")\n",
    "    print()"
   ]
  },
  {
   "cell_type": "code",
   "execution_count": null,
   "id": "0c1ea917",
   "metadata": {},
   "outputs": [],
   "source": []
  },
  {
   "cell_type": "markdown",
   "id": "80323429",
   "metadata": {},
   "source": [
    "# break and continue"
   ]
  },
  {
   "cell_type": "markdown",
   "id": "cba5ac05",
   "metadata": {},
   "source": [
    "## i.\n",
    "    Write a program that prompts the user for a positive integer. Next write a loop that prints out the numbers from the number the user entered down to 1."
   ]
  },
  {
   "cell_type": "code",
   "execution_count": 42,
   "id": "2b75b878",
   "metadata": {},
   "outputs": [
    {
     "name": "stdout",
     "output_type": "stream",
     "text": [
      "Enter a positive interger: 9\n",
      "9\n",
      "8\n",
      "7\n",
      "6\n",
      "5\n",
      "4\n",
      "3\n",
      "2\n",
      "1\n"
     ]
    }
   ],
   "source": [
    "# Ask the user to input a positve number \n",
    "pos_int = int(input('Enter a positive interger: '))\n",
    "\n",
    "\n",
    "# Create a while loop that counts down the inputted number all the way\n",
    "# to 1. \n",
    "while pos_int > 0:\n",
    "    print(pos_int)\n",
    "    pos_int = pos_int - 1"
   ]
  },
  {
   "cell_type": "code",
   "execution_count": null,
   "id": "0c64cb87",
   "metadata": {},
   "outputs": [],
   "source": [
    "for i in range(1, 10)\n",
    "    print(str)"
   ]
  },
  {
   "cell_type": "code",
   "execution_count": 14,
   "id": "df139e02",
   "metadata": {},
   "outputs": [
    {
     "name": "stdout",
     "output_type": "stream",
     "text": [
      "Enter a positive integer: 9\n",
      "9\n",
      "8\n",
      "7\n",
      "6\n",
      "5\n",
      "4\n",
      "3\n",
      "2\n"
     ]
    }
   ],
   "source": [
    "# Ask the user to input a positve number \n",
    "pos_int = int(input('Enter a positive integer: '))\n",
    "\n",
    "for i in range(pos_int, 1, -1):\n",
    "    print(i)"
   ]
  },
  {
   "cell_type": "markdown",
   "id": "eb100ef2",
   "metadata": {},
   "source": [
    "## ii.\n",
    "    The input function can be used to prompt for input and use that input in your python code. Prompt the user to enter a positive number and write a loop that counts from 0 to that number. (Hints: note that the input function returns a string, so you'll need to convert this to a numeric type.)"
   ]
  },
  {
   "cell_type": "code",
   "execution_count": 3,
   "id": "49fc6db0",
   "metadata": {},
   "outputs": [
    {
     "name": "stdout",
     "output_type": "stream",
     "text": [
      "Enter a positive interger: 5\n",
      "0\n",
      "1\n",
      "2\n",
      "3\n",
      "4\n",
      "5\n"
     ]
    }
   ],
   "source": [
    "# Ask the user to input a positve number \n",
    "pos_int = int(input('Enter a positive integer: '))\n",
    "\n",
    "i = 0\n",
    "\n",
    "# Create a while loop that counts up to the number the user inputted\n",
    "while i <= pos_int:\n",
    "    print(i)\n",
    "    i = i + 1"
   ]
  },
  {
   "cell_type": "code",
   "execution_count": 13,
   "id": "e0f3467b",
   "metadata": {
    "scrolled": true
   },
   "outputs": [
    {
     "name": "stdout",
     "output_type": "stream",
     "text": [
      "Enter a positive integer: 6\n",
      "6\n",
      "5\n",
      "4\n",
      "3\n",
      "2\n"
     ]
    }
   ],
   "source": [
    "# Ask the user to input a positve number \n",
    "pos_int = int(input('Enter a positive integer: '))\n",
    "\n",
    "for i in range(pos_int, )"
   ]
  },
  {
   "cell_type": "markdown",
   "id": "fb8eadbe",
   "metadata": {},
   "source": [
    "### iii.\n",
    "    Prompt the user for an odd number between 1 and 50. Use a loop and a break statement to continue prompting the user if they enter invalid input. (Hint: use the isdigit method on strings to determine this). Use a loop and the continue statement to output all the odd numbers between 1 and 50, except for the number the user entered.\n",
    "\n",
    "    Your output should look like this:\n",
    "    Number to skip is: 27\n",
    "\n",
    "    Here is an odd number: 1\n",
    "    Here is an odd number: 3\n",
    "    Here is an odd number: 5\n",
    "    Here is an odd number: 7\n",
    "    Here is an odd number: 9\n",
    "    Here is an odd number: 11\n",
    "    Here is an odd number: 13\n",
    "    Here is an odd number: 15\n",
    "    Here is an odd number: 17\n",
    "    Here is an odd number: 19\n",
    "    Here is an odd number: 21\n",
    "    Here is an odd number: 23\n",
    "    Here is an odd number: 25\n",
    "    Yikes! Skipping number: 27\n",
    "    Here is an odd number: 29\n",
    "    Here is an odd number: 31\n",
    "    Here is an odd number: 33\n",
    "    Here is an odd number: 35\n",
    "    Here is an odd number: 37\n",
    "    Here is an odd number: 39\n",
    "    Here is an odd number: 41\n",
    "    Here is an odd number: 43\n",
    "    Here is an odd number: 45\n",
    "    Here is an odd number: 47\n",
    "    Here is an odd number: 49"
   ]
  },
  {
   "cell_type": "code",
   "execution_count": 20,
   "id": "7434006b",
   "metadata": {},
   "outputs": [
    {
     "name": "stdout",
     "output_type": "stream",
     "text": [
      "Enter an odd number between 1 and 50: 3\n",
      "1\n",
      "skip this number: 3\n",
      "5\n",
      "7\n",
      "9\n",
      "11\n",
      "13\n",
      "15\n",
      "17\n",
      "19\n",
      "21\n",
      "23\n",
      "25\n",
      "27\n",
      "29\n",
      "31\n",
      "33\n",
      "35\n",
      "37\n",
      "39\n",
      "41\n",
      "43\n",
      "45\n",
      "47\n",
      "49\n"
     ]
    }
   ],
   "source": [
    "while True:\n",
    "\n",
    "    # Prompt the user to enter an odd number between 1 to 50.\n",
    "    user = input(\"Enter an odd number between 1 and 50: \") # leave it as an string\n",
    "    \n",
    "    if user.isdigit() == False:\n",
    "        print('Invalid entry. This is not a number.')\n",
    "        continue\n",
    "    \n",
    "    user = int(user)\n",
    "    \n",
    "    if user % 2 == 0:\n",
    "        print('Invalid entry. This is EVEN.')\n",
    "        continue\n",
    "    if user < 1 or user > 50:\n",
    "        print('Invalid entry. This is out of RANGE.')\n",
    "        continue\n",
    "    break\n",
    "\n",
    "for i in range(1,51,2):\n",
    "    if i == user:\n",
    "        print(f'Skip this number: {user}')\n",
    "        continue\n",
    "    print(i)"
   ]
  },
  {
   "cell_type": "markdown",
   "id": "6627a388",
   "metadata": {},
   "source": [
    "## 3. Fizzbuzz\n",
    "\n",
    "    One of the most common interview questions for entry-level programmers is the FizzBuzz test. Developed by Imran Ghory, the test is designed to test basic looping and conditional logic skills.\n",
    "\n",
    "        Write a program that prints the numbers from 1 to 100.\n",
    "        For multiples of three print \"Fizz\" instead of the number\n",
    "        For the multiples of five print \"Buzz\".\n",
    "        For numbers which are multiples of both three and five print \"FizzBuzz\"."
   ]
  },
  {
   "cell_type": "code",
   "execution_count": 30,
   "id": "c336f3c3",
   "metadata": {},
   "outputs": [
    {
     "name": "stdout",
     "output_type": "stream",
     "text": [
      "1\n",
      "2\n",
      "Fizz\n",
      "4\n",
      "Buzz\n",
      "Fizz\n",
      "7\n",
      "8\n",
      "Fizz\n",
      "Buzz\n",
      "11\n",
      "Fizz\n",
      "13\n",
      "14\n",
      "FizzBuzz\n",
      "16\n",
      "17\n",
      "Fizz\n",
      "19\n",
      "Buzz\n",
      "Fizz\n",
      "22\n",
      "23\n",
      "Fizz\n",
      "Buzz\n",
      "26\n",
      "Fizz\n",
      "28\n",
      "29\n",
      "FizzBuzz\n",
      "31\n",
      "32\n",
      "Fizz\n",
      "34\n",
      "Buzz\n",
      "Fizz\n",
      "37\n",
      "38\n",
      "Fizz\n",
      "Buzz\n",
      "41\n",
      "Fizz\n",
      "43\n",
      "44\n",
      "FizzBuzz\n",
      "46\n",
      "47\n",
      "Fizz\n",
      "49\n",
      "Buzz\n",
      "Fizz\n",
      "52\n",
      "53\n",
      "Fizz\n",
      "Buzz\n",
      "56\n",
      "Fizz\n",
      "58\n",
      "59\n",
      "FizzBuzz\n",
      "61\n",
      "62\n",
      "Fizz\n",
      "64\n",
      "Buzz\n",
      "Fizz\n",
      "67\n",
      "68\n",
      "Fizz\n",
      "Buzz\n",
      "71\n",
      "Fizz\n",
      "73\n",
      "74\n",
      "FizzBuzz\n",
      "76\n",
      "77\n",
      "Fizz\n",
      "79\n",
      "Buzz\n",
      "Fizz\n",
      "82\n",
      "83\n",
      "Fizz\n",
      "Buzz\n",
      "86\n",
      "Fizz\n",
      "88\n",
      "89\n",
      "FizzBuzz\n",
      "91\n",
      "92\n",
      "Fizz\n",
      "94\n",
      "Buzz\n",
      "Fizz\n",
      "97\n",
      "98\n",
      "Fizz\n"
     ]
    }
   ],
   "source": [
    "def fizzbuzz(num):\n",
    "\n",
    "    if num%3==0 and num%5==0: # if i % 15 == 0\n",
    "        return 'FizzBuzz'     \n",
    "    elif num%3==0:\n",
    "        return 'Fizz'\n",
    "    elif num%5==0:\n",
    "        return 'Buzz'\n",
    "    else:\n",
    "        return num\n",
    "\n",
    "if __name__ == \"__main__\": \n",
    "    \n",
    "    for i in range(1,100):\n",
    "        print(fizzbuzz(i))"
   ]
  },
  {
   "cell_type": "code",
   "execution_count": 29,
   "id": "242e46e3",
   "metadata": {},
   "outputs": [
    {
     "name": "stdout",
     "output_type": "stream",
     "text": [
      "1\n",
      "2\n",
      "Fizz\n",
      "4\n",
      "Buzz\n",
      "Fizz\n",
      "7\n",
      "8\n",
      "Fizz\n",
      "Buzz\n",
      "11\n",
      "Fizz\n",
      "13\n",
      "14\n",
      "FizzBuzz\n",
      "16\n",
      "17\n",
      "Fizz\n",
      "19\n",
      "Buzz\n",
      "Fizz\n",
      "22\n",
      "23\n",
      "Fizz\n",
      "Buzz\n",
      "26\n",
      "Fizz\n",
      "28\n",
      "29\n",
      "FizzBuzz\n",
      "31\n",
      "32\n",
      "Fizz\n",
      "34\n",
      "Buzz\n",
      "Fizz\n",
      "37\n",
      "38\n",
      "Fizz\n",
      "Buzz\n",
      "41\n",
      "Fizz\n",
      "43\n",
      "44\n",
      "FizzBuzz\n",
      "46\n",
      "47\n",
      "Fizz\n",
      "49\n",
      "Buzz\n",
      "Fizz\n",
      "52\n",
      "53\n",
      "Fizz\n",
      "Buzz\n",
      "56\n",
      "Fizz\n",
      "58\n",
      "59\n",
      "FizzBuzz\n",
      "61\n",
      "62\n",
      "Fizz\n",
      "64\n",
      "Buzz\n",
      "Fizz\n",
      "67\n",
      "68\n",
      "Fizz\n",
      "Buzz\n",
      "71\n",
      "Fizz\n",
      "73\n",
      "74\n",
      "FizzBuzz\n",
      "76\n",
      "77\n",
      "Fizz\n",
      "79\n",
      "Buzz\n",
      "Fizz\n",
      "82\n",
      "83\n",
      "Fizz\n",
      "Buzz\n",
      "86\n",
      "Fizz\n",
      "88\n",
      "89\n",
      "FizzBuzz\n",
      "91\n",
      "92\n",
      "Fizz\n",
      "94\n",
      "Buzz\n",
      "Fizz\n",
      "97\n",
      "98\n",
      "Fizz\n",
      "Buzz\n"
     ]
    }
   ],
   "source": [
    "for i in range(1, 101): \n",
    "    print(\"Fizz\" * (i % 3 == 0) + \"Buzz\" * (i % 5 == 0) or i)"
   ]
  },
  {
   "cell_type": "code",
   "execution_count": null,
   "id": "ffc1e638",
   "metadata": {},
   "outputs": [],
   "source": [
    "for i in range(1, 101):\n",
    "    if \n",
    "    "
   ]
  },
  {
   "cell_type": "markdown",
   "id": "69956533",
   "metadata": {},
   "source": [
    "## 4. Display a table of powers.\n",
    "\n",
    "    - Prompt the user to enter an integer\n",
    "    - Display a table of squares and cubes from 1 to the value entered\n",
    "    - Ask if the user wants to continue\n",
    "    - Assume that the user will enter valid data\n",
    "    - Only continue if the user agrees to\n",
    "    Example Output\n",
    "    "
   ]
  },
  {
   "cell_type": "code",
   "execution_count": 16,
   "id": "674297a9",
   "metadata": {},
   "outputs": [
    {
     "ename": "IndentationError",
     "evalue": "expected an indented block (3508398550.py, line 36)",
     "output_type": "error",
     "traceback": [
      "\u001b[0;36m  Input \u001b[0;32mIn [16]\u001b[0;36m\u001b[0m\n\u001b[0;31m    else:\u001b[0m\n\u001b[0m    ^\u001b[0m\n\u001b[0;31mIndentationError\u001b[0m\u001b[0;31m:\u001b[0m expected an indented block\n"
     ]
    }
   ],
   "source": [
    "def sq_cube_table():\n",
    "    \n",
    "    # Create a while loop\n",
    "    while True:\n",
    "\n",
    "        # ask the user to enter an integer\n",
    "        num = input(\"Enter an integer to create a table of squares and cubes: \\n\")\n",
    "\n",
    "        print('')\n",
    "        print('Here is your table\\n')\n",
    "\n",
    "        if num.isdigit() == False:\n",
    "            print('Invalid entry. This is not a number.')\n",
    "            continue\n",
    "        else:\n",
    "            break\n",
    "\n",
    "    num = int(num)\n",
    "    square = 1\n",
    "    cube = 1\n",
    "\n",
    "    print('number\\tsquare\\tcube')\n",
    "    for num in range(1, 6):\n",
    "        square = num * num\n",
    "        cube = num * num * num\n",
    "\n",
    "        #print the rows using f-strings\n",
    "        print(f'{num}\\t{square}\\t{cube}')\n",
    "\n",
    "\n",
    "    x = input(\"Would you like to continue (y/n)?: \")\n",
    "    x = x.lower()\n",
    "    if x == 'y':\n",
    "        return sq_cube_table()\n",
    "    elif x == 'n':\n",
    "    else:\n",
    "        print(f'Enter either y or n')\n",
    "\n",
    "    "
   ]
  },
  {
   "cell_type": "code",
   "execution_count": 20,
   "id": "1f03e1a2",
   "metadata": {},
   "outputs": [
    {
     "name": "stdout",
     "output_type": "stream",
     "text": [
      "Enter an integer to create a table of squares and cubes: \n",
      "5\n",
      "\n",
      "Here is your table\n",
      "\n",
      "number\tsquare\tcube\n",
      "1\t1\t1\n",
      "2\t4\t8\n",
      "3\t9\t27\n",
      "4\t16\t64\n",
      "5\t25\t125\n",
      "Would you like to continue (y/n)?: y\n"
     ]
    },
    {
     "ename": "SyntaxError",
     "evalue": "'continue' not properly in loop (1892569474.py, line 35)",
     "output_type": "error",
     "traceback": [
      "\u001b[0;36m  Input \u001b[0;32mIn [20]\u001b[0;36m\u001b[0m\n\u001b[0;31m    continue\u001b[0m\n\u001b[0m    ^\u001b[0m\n\u001b[0;31mSyntaxError\u001b[0m\u001b[0;31m:\u001b[0m 'continue' not properly in loop\n"
     ]
    }
   ],
   "source": [
    "# def sq_cube_table():\n",
    "    \n",
    "# Create a while loop\n",
    "while True:\n",
    "\n",
    "    # ask the user to enter an integer\n",
    "    num = input(\"Enter an integer to create a table of squares and cubes: \\n\")\n",
    "\n",
    "    print('')\n",
    "    print('Here is your table\\n')\n",
    "\n",
    "    if num.isdigit() == False:\n",
    "        print('Invalid entry. This is not a number.')\n",
    "        continue\n",
    "    else:\n",
    "        break\n",
    "\n",
    "num = int(num)\n",
    "square = 1\n",
    "cube = 1\n",
    "\n",
    "print('number\\tsquare\\tcube')\n",
    "for num in range(1, 6):\n",
    "    square = num * num\n",
    "    cube = num * num * num\n",
    "\n",
    "    #print the rows using f-strings\n",
    "    print(f'{num}\\t{square}\\t{cube}')\n",
    "\n",
    "\n",
    "x = input(\"Would you like to continue (y/n)?: \")\n",
    "x = x.lower()\n",
    "if x == 'y':\n",
    "#     return sq_cube_table()\n",
    "    continue\n",
    "elif x == 'n':\n",
    "    break\n",
    "else:\n",
    "    print(f'Enter either y or n')"
   ]
  },
  {
   "cell_type": "code",
   "execution_count": null,
   "id": "911eef1b",
   "metadata": {},
   "outputs": [
    {
     "name": "stdout",
     "output_type": "stream",
     "text": [
      "Enter an integer to create a table of squares and cubes: \n",
      "7\n",
      "\n",
      "Here is your table\n",
      "\n",
      "number\tsquare\tcube\n",
      "1\t1\t1\n",
      "2\t4\t8\n",
      "3\t9\t27\n",
      "4\t16\t64\n",
      "5\t25\t125\n",
      "6\t36\t216\n",
      "7\t49\t343\n",
      "Would you like to continue? (y/n): k\n",
      "That's not a valid respond\n"
     ]
    }
   ],
   "source": [
    "# Create a while loop\n",
    "while True:\n",
    "\n",
    "    # ask the user to enter an integer\n",
    "    num = int(input(\"Enter an integer to create a table of squares and cubes: \\n\"))\n",
    "    print('')\n",
    "    print('Here is your table\\n')\n",
    "    \n",
    "#     if num.isdigit() == False:\n",
    "#         print('Invalid entry. This is not a number.')\n",
    "#         continue\n",
    "#     else:\n",
    "#         break\n",
    "\n",
    "#     num = int(num)\n",
    "#     square = 1\n",
    "#     cube = 1\n",
    "\n",
    "    print('number\\tsquare\\tcube')\n",
    "    for i in range(1, num + 1):\n",
    "        square = i * i\n",
    "        cube = i * i * i\n",
    "        #print the rows using f-strings\n",
    "        print(f'{i}\\t{square}\\t{cube}')\n",
    "#         continue\n",
    "\n",
    "\n",
    "    conti = input(\"Would you like to continue? (y/n): \")\n",
    "    conti = conti.lower()\n",
    "    if conti not in ['y', 'n']:\n",
    "        print(\"That's not a valid respond\")  \n",
    "        continue\n",
    "    \n",
    "    if conti != 'y':\n",
    "        break\n",
    "        \n"
   ]
  },
  {
   "cell_type": "code",
   "execution_count": null,
   "id": "1b6641d6",
   "metadata": {},
   "outputs": [],
   "source": []
  }
 ],
 "metadata": {
  "kernelspec": {
   "display_name": "Python 3 (ipykernel)",
   "language": "python",
   "name": "python3"
  },
  "language_info": {
   "codemirror_mode": {
    "name": "ipython",
    "version": 3
   },
   "file_extension": ".py",
   "mimetype": "text/x-python",
   "name": "python",
   "nbconvert_exporter": "python",
   "pygments_lexer": "ipython3",
   "version": "3.9.13"
  }
 },
 "nbformat": 4,
 "nbformat_minor": 5
}
