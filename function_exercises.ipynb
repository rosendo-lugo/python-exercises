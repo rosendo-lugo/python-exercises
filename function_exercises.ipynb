{
 "cells": [
  {
   "cell_type": "markdown",
   "id": "6492486d",
   "metadata": {},
   "source": [
    "### 1.\n",
    "    Define a function named is_two. It should accept one input and return True if the passed input is either the number or the string 2, False otherwise."
   ]
  },
  {
   "cell_type": "code",
   "execution_count": 8,
   "id": "936d3442",
   "metadata": {},
   "outputs": [
    {
     "ename": "SyntaxError",
     "evalue": "invalid syntax (432886290.py, line 3)",
     "output_type": "error",
     "traceback": [
      "\u001b[0;36m  Input \u001b[0;32mIn [8]\u001b[0;36m\u001b[0m\n\u001b[0;31m    def is_two(2):\u001b[0m\n\u001b[0m               ^\u001b[0m\n\u001b[0;31mSyntaxError\u001b[0m\u001b[0;31m:\u001b[0m invalid syntax\n"
     ]
    }
   ],
   "source": [
    "# n = int(input('Enter the number or letter 2: '))\n",
    "\n",
    "def is_two(2):\n",
    "    i = 2\n",
    "    if i == a:\n",
    "#         return True\n",
    "        print('hi')\n",
    "    else:\n",
    "#         return False\n",
    "        print('Boo')\n",
    "        \n"
   ]
  },
  {
   "cell_type": "code",
   "execution_count": 17,
   "id": "e6bf6dd6",
   "metadata": {
    "scrolled": true
   },
   "outputs": [
    {
     "name": "stdout",
     "output_type": "stream",
     "text": [
      "Enter the number or letter 2: 4\n",
      "Boo\n"
     ]
    }
   ],
   "source": [
    "a = input('Enter the number or letter 2: ')\n",
    "\n",
    "if a == 2 or a == '2':\n",
    "#         return True\n",
    "    print('hi')\n",
    "else:\n",
    "#         return False\n",
    "    print('Boo')"
   ]
  },
  {
   "cell_type": "code",
   "execution_count": 31,
   "id": "8b30ef0c",
   "metadata": {},
   "outputs": [
    {
     "data": {
      "text/plain": [
       "str"
      ]
     },
     "execution_count": 31,
     "metadata": {},
     "output_type": "execute_result"
    }
   ],
   "source": [
    "type(a)"
   ]
  },
  {
   "cell_type": "code",
   "execution_count": 10,
   "id": "55e354a4",
   "metadata": {},
   "outputs": [],
   "source": [
    "a = int\n",
    "\n",
    "def is_two(a=2, b='two'):\n",
    "    if i == a and i == b:\n",
    "        return True\n",
    "    else:\n",
    "        return False\n",
    "    \n"
   ]
  },
  {
   "cell_type": "code",
   "execution_count": 11,
   "id": "00727ae9",
   "metadata": {},
   "outputs": [
    {
     "ename": "NameError",
     "evalue": "name 'i' is not defined",
     "output_type": "error",
     "traceback": [
      "\u001b[0;31m---------------------------------------------------------------------------\u001b[0m",
      "\u001b[0;31mNameError\u001b[0m                                 Traceback (most recent call last)",
      "Input \u001b[0;32mIn [11]\u001b[0m, in \u001b[0;36m<cell line: 1>\u001b[0;34m()\u001b[0m\n\u001b[0;32m----> 1\u001b[0m \u001b[43mis_two\u001b[49m\u001b[43m(\u001b[49m\u001b[38;5;241;43m2\u001b[39;49m\u001b[43m,\u001b[49m\u001b[38;5;124;43m'\u001b[39;49m\u001b[38;5;124;43mtwo\u001b[39;49m\u001b[38;5;124;43m'\u001b[39;49m\u001b[43m)\u001b[49m\n",
      "Input \u001b[0;32mIn [10]\u001b[0m, in \u001b[0;36mis_two\u001b[0;34m(a, b)\u001b[0m\n\u001b[1;32m      1\u001b[0m \u001b[38;5;28;01mdef\u001b[39;00m \u001b[38;5;21mis_two\u001b[39m(a\u001b[38;5;241m=\u001b[39m\u001b[38;5;241m2\u001b[39m, b\u001b[38;5;241m=\u001b[39m\u001b[38;5;124m'\u001b[39m\u001b[38;5;124mtwo\u001b[39m\u001b[38;5;124m'\u001b[39m):\n\u001b[0;32m----> 2\u001b[0m     \u001b[38;5;28;01mif\u001b[39;00m \u001b[43mi\u001b[49m \u001b[38;5;241m==\u001b[39m a \u001b[38;5;129;01mand\u001b[39;00m i \u001b[38;5;241m==\u001b[39m b:\n\u001b[1;32m      3\u001b[0m         \u001b[38;5;28;01mreturn\u001b[39;00m \u001b[38;5;28;01mTrue\u001b[39;00m\n\u001b[1;32m      4\u001b[0m     \u001b[38;5;28;01melse\u001b[39;00m:\n",
      "\u001b[0;31mNameError\u001b[0m: name 'i' is not defined"
     ]
    }
   ],
   "source": []
  },
  {
   "cell_type": "code",
   "execution_count": 3,
   "id": "1974787b",
   "metadata": {},
   "outputs": [
    {
     "name": "stdout",
     "output_type": "stream",
     "text": [
      "Enter the number or letter 2: 2\n",
      "hi\n"
     ]
    }
   ],
   "source": [
    "a = input('Enter the number or letter 2: ')\n",
    "\n",
    "if a.isdigit() == True:\n",
    "#         return True\n",
    "    a = int(a)\n",
    "if a == 2 or a == 'two':\n",
    "    print('hi')\n",
    "else:\n",
    "#         return False\n",
    "    print('Boo')"
   ]
  },
  {
   "cell_type": "code",
   "execution_count": 54,
   "id": "7984365a",
   "metadata": {},
   "outputs": [],
   "source": [
    "n = '2'"
   ]
  },
  {
   "cell_type": "code",
   "execution_count": 36,
   "id": "58528453",
   "metadata": {},
   "outputs": [
    {
     "data": {
      "text/plain": [
       "str"
      ]
     },
     "execution_count": 36,
     "metadata": {},
     "output_type": "execute_result"
    }
   ],
   "source": [
    "type(n)"
   ]
  },
  {
   "cell_type": "code",
   "execution_count": 37,
   "id": "9ed5f470",
   "metadata": {},
   "outputs": [
    {
     "data": {
      "text/plain": [
       "True"
      ]
     },
     "execution_count": 37,
     "metadata": {},
     "output_type": "execute_result"
    }
   ],
   "source": [
    "n.isdigit()"
   ]
  },
  {
   "cell_type": "code",
   "execution_count": 38,
   "id": "cc2120ac",
   "metadata": {},
   "outputs": [
    {
     "data": {
      "text/plain": [
       "True"
      ]
     },
     "execution_count": 38,
     "metadata": {},
     "output_type": "execute_result"
    }
   ],
   "source": [
    "n.strip().isdigit()"
   ]
  },
  {
   "cell_type": "code",
   "execution_count": 43,
   "id": "c9c3c944",
   "metadata": {},
   "outputs": [
    {
     "name": "stdout",
     "output_type": "stream",
     "text": [
      "Enter the number or letter 2: 2\n"
     ]
    }
   ],
   "source": [
    "a = input('Enter the number or letter 2: ')"
   ]
  },
  {
   "cell_type": "code",
   "execution_count": 44,
   "id": "b076a498",
   "metadata": {},
   "outputs": [
    {
     "data": {
      "text/plain": [
       "str"
      ]
     },
     "execution_count": 44,
     "metadata": {},
     "output_type": "execute_result"
    }
   ],
   "source": [
    "type(a)"
   ]
  },
  {
   "cell_type": "code",
   "execution_count": 7,
   "id": "c5cff876",
   "metadata": {},
   "outputs": [
    {
     "name": "stdout",
     "output_type": "stream",
     "text": [
      "Enter the number or letter 2: jfaslk;\n",
      "False\n"
     ]
    }
   ],
   "source": [
    "def is_two(a):\n",
    "    a = input('Enter the number or letter 2: ')\n",
    "    if a.isdigit() == True:\n",
    "        a = int(a)\n",
    "    if a == 2 or a == 'two':\n",
    "        return True\n",
    "    else:\n",
    "        return False\n",
    "im_lost = is_two(a)\n",
    "print(im_lost)\n",
    "\n"
   ]
  },
  {
   "cell_type": "code",
   "execution_count": null,
   "id": "fde94efd",
   "metadata": {},
   "outputs": [],
   "source": [
    "# Add the below function to .py"
   ]
  },
  {
   "cell_type": "code",
   "execution_count": 18,
   "id": "35ff34f3",
   "metadata": {},
   "outputs": [],
   "source": [
    "def is_two(string):\n",
    "    if string == 2 or string == '2':\n",
    "        return True\n",
    "    else:\n",
    "        return False"
   ]
  },
  {
   "cell_type": "code",
   "execution_count": 20,
   "id": "3c84a7c6",
   "metadata": {},
   "outputs": [
    {
     "data": {
      "text/plain": [
       "True"
      ]
     },
     "execution_count": 20,
     "metadata": {},
     "output_type": "execute_result"
    }
   ],
   "source": [
    "is_two(2)"
   ]
  },
  {
   "cell_type": "markdown",
   "id": "0ccccd06",
   "metadata": {},
   "source": [
    "## 2. \n",
    "    Define a function named is_vowel. It should return True if the passed string is a vowel, False otherwise."
   ]
  },
  {
   "cell_type": "code",
   "execution_count": null,
   "id": "d2a61031",
   "metadata": {},
   "outputs": [],
   "source": [
    "def is_vowel():\n",
    "    if vowel == [a,e,i,o,u]:\n",
    "        return True\n",
    "    else:\n",
    "        return False\n",
    "    "
   ]
  },
  {
   "cell_type": "code",
   "execution_count": 8,
   "id": "9bce31a4",
   "metadata": {},
   "outputs": [
    {
     "name": "stdout",
     "output_type": "stream",
     "text": [
      "Enter a vowel:\n",
      " a\n"
     ]
    }
   ],
   "source": [
    "vowel = input('Enter a vowel:\\n ')"
   ]
  },
  {
   "cell_type": "code",
   "execution_count": 9,
   "id": "a6b53e72",
   "metadata": {},
   "outputs": [
    {
     "data": {
      "text/plain": [
       "'a'"
      ]
     },
     "execution_count": 9,
     "metadata": {},
     "output_type": "execute_result"
    }
   ],
   "source": [
    "vowel"
   ]
  },
  {
   "cell_type": "code",
   "execution_count": null,
   "id": "ac33db04",
   "metadata": {},
   "outputs": [],
   "source": [
    "if vowel != [a,e,i,o,u]\n",
    "#     return False\n",
    "    print('False')\n",
    "else:\n",
    "    print('True')"
   ]
  },
  {
   "cell_type": "code",
   "execution_count": 17,
   "id": "85fc7fbf",
   "metadata": {},
   "outputs": [
    {
     "name": "stdout",
     "output_type": "stream",
     "text": [
      "Enter a vowel:\n",
      " a\n",
      "False\n"
     ]
    }
   ],
   "source": [
    "vowel = input('Enter a vowel:\\n ')\n",
    "vowel_ls = ['a','e','i','o','u']\n",
    "if vowel == vowel_ls:\n",
    "#     return False\n",
    "    print('True')\n",
    "else:\n",
    "    print('False')"
   ]
  },
  {
   "cell_type": "code",
   "execution_count": 26,
   "id": "c04f8d31",
   "metadata": {},
   "outputs": [
    {
     "name": "stdout",
     "output_type": "stream",
     "text": [
      "Enter a vowel:\n",
      " a\n"
     ]
    }
   ],
   "source": [
    "vowel = input('Enter a vowel:\\n ')\n",
    "vowel_ls = ['a','e','i','o','u']\n",
    "\n",
    "result = True\n",
    "for vowel in vowel_ls:\n",
    "    if vowel == 'a':\n",
    "        result = False\n",
    "        break\n",
    "    if vowel == 'e':\n",
    "        result = False\n",
    "        break\n",
    "    if vowel == 'i':\n",
    "        result = False\n",
    "        break\n",
    "    if vowel == 'o':\n",
    "        result = False\n",
    "        break\n",
    "    if vowel == 'u':\n",
    "        result = False\n",
    "        break\n"
   ]
  },
  {
   "cell_type": "code",
   "execution_count": 34,
   "id": "10753685",
   "metadata": {},
   "outputs": [
    {
     "name": "stdout",
     "output_type": "stream",
     "text": [
      "Enter a vowel:\n",
      " a\n"
     ]
    },
    {
     "ename": "TypeError",
     "evalue": "string indices must be integers",
     "output_type": "error",
     "traceback": [
      "\u001b[0;31m---------------------------------------------------------------------------\u001b[0m",
      "\u001b[0;31mTypeError\u001b[0m                                 Traceback (most recent call last)",
      "Input \u001b[0;32mIn [34]\u001b[0m, in \u001b[0;36m<cell line: 5>\u001b[0;34m()\u001b[0m\n\u001b[1;32m      4\u001b[0m \u001b[38;5;66;03m# result = True\u001b[39;00m\n\u001b[1;32m      5\u001b[0m \u001b[38;5;28;01mfor\u001b[39;00m vowel \u001b[38;5;129;01min\u001b[39;00m vowel_ls:\n\u001b[0;32m----> 6\u001b[0m     \u001b[38;5;28;01mif\u001b[39;00m \u001b[43mvowel\u001b[49m\u001b[43m[\u001b[49m\u001b[38;5;124;43m'\u001b[39;49m\u001b[38;5;124;43ma\u001b[39;49m\u001b[38;5;124;43m'\u001b[39;49m\u001b[43m]\u001b[49m \u001b[38;5;241m==\u001b[39m user_input:\n\u001b[1;32m      7\u001b[0m         \u001b[38;5;28mprint\u001b[39m(vowel[\u001b[38;5;124m'\u001b[39m\u001b[38;5;124ma\u001b[39m\u001b[38;5;124m'\u001b[39m])\n",
      "\u001b[0;31mTypeError\u001b[0m: string indices must be integers"
     ]
    }
   ],
   "source": [
    "user_input = input('Enter a vowel:\\n ')\n",
    "vowel_ls = ['a','e','i','o','u']\n",
    "\n",
    "for vowel in vowel_ls:\n",
    "    if vowel['a'] == user_input:\n",
    "        print(vowel['a'])\n"
   ]
  },
  {
   "cell_type": "code",
   "execution_count": 40,
   "id": "6c4367f5",
   "metadata": {},
   "outputs": [
    {
     "name": "stdout",
     "output_type": "stream",
     "text": [
      "Enter a vowel:\n",
      " g\n",
      "False\n"
     ]
    }
   ],
   "source": [
    "user_input = input('Enter a vowel:\\n ')\n",
    "\n",
    "if user_input.lower() in 'aeiou':\n",
    "    print('True')\n",
    "if user_input.upper() in 'AEIOU':\n",
    "    print('True')\n",
    "else:\n",
    "    print('False')\n"
   ]
  },
  {
   "cell_type": "code",
   "execution_count": 47,
   "id": "6bab5c21",
   "metadata": {},
   "outputs": [
    {
     "name": "stdout",
     "output_type": "stream",
     "text": [
      "Enter a vowel:  A\n",
      "True\n"
     ]
    }
   ],
   "source": [
    "def is_vowel():\n",
    "    user_input = input('Enter a vowel:  ')\n",
    "\n",
    "    if user_input.lower() in 'aeiou':\n",
    "        return True\n",
    "    elif user_input.upper() in 'AEIOU':\n",
    "        return True\n",
    "    else:\n",
    "        return False\n",
    "        \n",
    "im_lost = is_vowel()\n",
    "print(im_lost)"
   ]
  },
  {
   "cell_type": "markdown",
   "id": "b44989ec",
   "metadata": {},
   "source": [
    "### Add this to the .py file"
   ]
  },
  {
   "cell_type": "code",
   "execution_count": 21,
   "id": "8d661c00",
   "metadata": {},
   "outputs": [],
   "source": [
    "def is_two(string):\n",
    "    if string == 2 or string == '2':\n",
    "        return True\n",
    "    else:\n",
    "        return False\n"
   ]
  },
  {
   "cell_type": "code",
   "execution_count": 22,
   "id": "46387301",
   "metadata": {},
   "outputs": [
    {
     "data": {
      "text/plain": [
       "True"
      ]
     },
     "execution_count": 22,
     "metadata": {},
     "output_type": "execute_result"
    }
   ],
   "source": [
    "is_vowel('a')"
   ]
  },
  {
   "cell_type": "code",
   "execution_count": 23,
   "id": "0d4309ac",
   "metadata": {},
   "outputs": [
    {
     "data": {
      "text/plain": [
       "True"
      ]
     },
     "execution_count": 23,
     "metadata": {},
     "output_type": "execute_result"
    }
   ],
   "source": [
    "is_vowel('A')"
   ]
  },
  {
   "cell_type": "markdown",
   "id": "7e6f47f1",
   "metadata": {},
   "source": [
    "## 3. \n",
    "    Define a function named is_consonant. It should return True if the passed string is a consonant, False otherwise. Use your is_vowel function to accomplish this."
   ]
  },
  {
   "cell_type": "code",
   "execution_count": 6,
   "id": "69e42271",
   "metadata": {},
   "outputs": [
    {
     "name": "stdout",
     "output_type": "stream",
     "text": [
      "Enter a consonant:  t\n",
      "True\n"
     ]
    }
   ],
   "source": [
    "def is_consonant():\n",
    "    user_input = input('Enter a consonant:  ')\n",
    "\n",
    "    if user_input.lower() not in 'aeiou':\n",
    "        return True\n",
    "    elif user_input.upper() not in 'AEIOU':\n",
    "        return True\n",
    "    else:\n",
    "        return False\n",
    "        \n",
    "im_lost = is_consonant()\n",
    "print(im_lost)"
   ]
  },
  {
   "cell_type": "markdown",
   "id": "9385165b",
   "metadata": {},
   "source": [
    "###  Add this function to .py"
   ]
  },
  {
   "cell_type": "code",
   "execution_count": 31,
   "id": "6014f5b9",
   "metadata": {},
   "outputs": [],
   "source": [
    "def is_consonant(string):\n",
    "    if type(string) == str:\n",
    "        if string.isalpha() == True:\n",
    "            if not is_vowel(string):\n",
    "                return True\n",
    "            else:\n",
    "                return False\n",
    "        else:\n",
    "            return False\n",
    "    else:\n",
    "        return False"
   ]
  },
  {
   "cell_type": "code",
   "execution_count": 32,
   "id": "7d31366a",
   "metadata": {},
   "outputs": [
    {
     "data": {
      "text/plain": [
       "False"
      ]
     },
     "execution_count": 32,
     "metadata": {},
     "output_type": "execute_result"
    }
   ],
   "source": [
    "is_consonant('!')"
   ]
  },
  {
   "cell_type": "code",
   "execution_count": 33,
   "id": "f83af134",
   "metadata": {},
   "outputs": [
    {
     "data": {
      "text/plain": [
       "False"
      ]
     },
     "execution_count": 33,
     "metadata": {},
     "output_type": "execute_result"
    }
   ],
   "source": [
    "is_consonant('a')"
   ]
  },
  {
   "cell_type": "markdown",
   "id": "8fed2183",
   "metadata": {},
   "source": [
    "## 4. \n",
    "    Define a function that accepts a string that is a word. The function should capitalize the first letter of the word if the word starts with a consonant."
   ]
  },
  {
   "cell_type": "code",
   "execution_count": null,
   "id": "ac73fa71",
   "metadata": {},
   "outputs": [],
   "source": [
    "# while True:\n",
    "user_input = input('Enter a your first name:  ')\n",
    "\n",
    "first_letter_lower_case = user_input[0].lower() + user_input[1:]\n",
    "\n",
    "print('Hi:' + str(first_letter_lower_case))\n",
    "    \n",
    "#     if user_input.isdigit() == True:\n",
    "#         print('Invalid entry, this is a number. Try again!')\n",
    "#     elif user_input == .lower()\n",
    "#         print('lower case')\n",
    "\n",
    "    \n",
    "    "
   ]
  },
  {
   "cell_type": "code",
   "execution_count": 13,
   "id": "65f7971d",
   "metadata": {},
   "outputs": [
    {
     "ename": "AttributeError",
     "evalue": "'function' object has no attribute 'lower'",
     "output_type": "error",
     "traceback": [
      "\u001b[0;31m---------------------------------------------------------------------------\u001b[0m",
      "\u001b[0;31mAttributeError\u001b[0m                            Traceback (most recent call last)",
      "Input \u001b[0;32mIn [13]\u001b[0m, in \u001b[0;36m<cell line: 3>\u001b[0;34m()\u001b[0m\n\u001b[1;32m      1\u001b[0m i \u001b[38;5;241m=\u001b[39m \u001b[38;5;124m'\u001b[39m\u001b[38;5;124mHello\u001b[39m\u001b[38;5;124m'\u001b[39m\n\u001b[1;32m      3\u001b[0m \u001b[38;5;28;01mfor\u001b[39;00m x \u001b[38;5;129;01min\u001b[39;00m i:\n\u001b[1;32m      4\u001b[0m \u001b[38;5;66;03m#     print(x)\u001b[39;00m\n\u001b[0;32m----> 5\u001b[0m     \u001b[38;5;28;01mif\u001b[39;00m x \u001b[38;5;241m==\u001b[39m \u001b[43mis_consonant\u001b[49m\u001b[38;5;241;43m.\u001b[39;49m\u001b[43mlower\u001b[49m():\n\u001b[1;32m      6\u001b[0m         \u001b[38;5;28mprint\u001b[39m(x)\n",
      "\u001b[0;31mAttributeError\u001b[0m: 'function' object has no attribute 'lower'"
     ]
    }
   ],
   "source": [
    "i = 'Hello'\n",
    "\n",
    "for x in i:\n",
    "#     print(x)\n",
    "    if x == is_consonant.lower():\n",
    "        print(x)"
   ]
  },
  {
   "cell_type": "code",
   "execution_count": 37,
   "id": "0b8e70ba",
   "metadata": {},
   "outputs": [],
   "source": [
    "def capital_cons_start(string):\n",
    "    if is_consonant(string[0]):\n",
    "        string = string.capitalize()\n",
    "    return string"
   ]
  },
  {
   "cell_type": "code",
   "execution_count": 40,
   "id": "ee6a9272",
   "metadata": {},
   "outputs": [
    {
     "data": {
      "text/plain": [
       "'John'"
      ]
     },
     "execution_count": 40,
     "metadata": {},
     "output_type": "execute_result"
    }
   ],
   "source": [
    "capital_cons_start('john')"
   ]
  },
  {
   "cell_type": "markdown",
   "id": "75cfb4d0",
   "metadata": {},
   "source": [
    "## 5.\n",
    "    Define a function named calculate_tip. It should accept a tip percentage (a number between 0 and 1) and the bill total, and return the amount to tip."
   ]
  },
  {
   "cell_type": "code",
   "execution_count": 45,
   "id": "67aa7546",
   "metadata": {},
   "outputs": [],
   "source": [
    "tip = .1\n",
    "total_bill = 40"
   ]
  },
  {
   "cell_type": "code",
   "execution_count": 46,
   "id": "0e4351e9",
   "metadata": {},
   "outputs": [
    {
     "data": {
      "text/plain": [
       "44.0"
      ]
     },
     "execution_count": 46,
     "metadata": {},
     "output_type": "execute_result"
    }
   ],
   "source": [
    "tip * total_bill + total_bill"
   ]
  },
  {
   "cell_type": "markdown",
   "id": "f363be7a",
   "metadata": {},
   "source": [
    "### Add this to the .py file"
   ]
  },
  {
   "cell_type": "code",
   "execution_count": 47,
   "id": "749fc2c1",
   "metadata": {},
   "outputs": [],
   "source": [
    "def calculate_tip(total_bill, tip = .1):\n",
    "    return total_bill * tip + total_bill"
   ]
  },
  {
   "cell_type": "code",
   "execution_count": 49,
   "id": "6c57b62c",
   "metadata": {},
   "outputs": [
    {
     "data": {
      "text/plain": [
       "44.0"
      ]
     },
     "execution_count": 49,
     "metadata": {},
     "output_type": "execute_result"
    }
   ],
   "source": [
    "calculate_tip(40)"
   ]
  },
  {
   "cell_type": "markdown",
   "id": "f1eac0f7",
   "metadata": {},
   "source": [
    "### 6.\n",
    "\n",
    "    Define a function named apply_discount. It should accept a original price, and a discount percentage, and return the price after the discount is applied.\n"
   ]
  },
  {
   "cell_type": "code",
   "execution_count": 50,
   "id": "577ba960",
   "metadata": {},
   "outputs": [],
   "source": [
    "orig_price = 40"
   ]
  },
  {
   "cell_type": "code",
   "execution_count": 52,
   "id": "c1997142",
   "metadata": {},
   "outputs": [],
   "source": [
    "disc_perc = .2"
   ]
  },
  {
   "cell_type": "code",
   "execution_count": 54,
   "id": "3637523c",
   "metadata": {},
   "outputs": [
    {
     "data": {
      "text/plain": [
       "32.0"
      ]
     },
     "execution_count": 54,
     "metadata": {},
     "output_type": "execute_result"
    }
   ],
   "source": [
    "orig_price - disc_perc * orig_price"
   ]
  },
  {
   "cell_type": "markdown",
   "id": "74fec024",
   "metadata": {},
   "source": [
    "### add this to the .py file"
   ]
  },
  {
   "cell_type": "code",
   "execution_count": 56,
   "id": "5d3c1bb6",
   "metadata": {},
   "outputs": [],
   "source": [
    "def apply_discount(orig_price, disc_price):\n",
    "    return orig_price - orig_price * disc_price"
   ]
  },
  {
   "cell_type": "code",
   "execution_count": 57,
   "id": "2ff16f35",
   "metadata": {},
   "outputs": [
    {
     "data": {
      "text/plain": [
       "32.0"
      ]
     },
     "execution_count": 57,
     "metadata": {},
     "output_type": "execute_result"
    }
   ],
   "source": [
    "apply_discount(40, .2)"
   ]
  },
  {
   "cell_type": "markdown",
   "id": "96ff6ba9",
   "metadata": {},
   "source": [
    "### 7.\n",
    "\n",
    "    Define a function named handle_commas. It should accept a string that is a number that contains commas in it as input, and return a number as output."
   ]
  },
  {
   "cell_type": "code",
   "execution_count": null,
   "id": "6b29e7ca",
   "metadata": {},
   "outputs": [],
   "source": [
    "def handle_commas(string_num):"
   ]
  },
  {
   "cell_type": "code",
   "execution_count": 59,
   "id": "71299698",
   "metadata": {},
   "outputs": [],
   "source": [
    "# a number as a string\n",
    "string_num = '2'"
   ]
  },
  {
   "cell_type": "code",
   "execution_count": 60,
   "id": "e28302f1",
   "metadata": {},
   "outputs": [
    {
     "data": {
      "text/plain": [
       "str"
      ]
     },
     "execution_count": 60,
     "metadata": {},
     "output_type": "execute_result"
    }
   ],
   "source": [
    "type(string_num)"
   ]
  },
  {
   "cell_type": "markdown",
   "id": "30b4f837",
   "metadata": {},
   "source": [
    "### convert string_num into a number AND replace string_num comma with nothing"
   ]
  },
  {
   "cell_type": "code",
   "execution_count": null,
   "id": "47d51763",
   "metadata": {},
   "outputs": [],
   "source": [
    "def handle_commas(string_num):"
   ]
  },
  {
   "cell_type": "code",
   "execution_count": null,
   "id": "04c72bad",
   "metadata": {},
   "outputs": [],
   "source": [
    "int(string_num.replace(',',''))"
   ]
  },
  {
   "cell_type": "markdown",
   "id": "1ceaeea8",
   "metadata": {},
   "source": [
    "### Add this to the .py file"
   ]
  },
  {
   "cell_type": "code",
   "execution_count": 68,
   "id": "367acbac",
   "metadata": {},
   "outputs": [],
   "source": [
    "def handle_commas(string_num):\n",
    "    return int(string_num.replace(',',''))"
   ]
  },
  {
   "cell_type": "markdown",
   "id": "4a5879aa",
   "metadata": {},
   "source": [
    "### don't forget to add the double qouts"
   ]
  },
  {
   "cell_type": "code",
   "execution_count": 69,
   "id": "a8994d95",
   "metadata": {},
   "outputs": [
    {
     "data": {
      "text/plain": [
       "3456"
      ]
     },
     "execution_count": 69,
     "metadata": {},
     "output_type": "execute_result"
    }
   ],
   "source": [
    "handle_commas(\"3,456\")"
   ]
  },
  {
   "cell_type": "code",
   "execution_count": 70,
   "id": "b46a888c",
   "metadata": {},
   "outputs": [
    {
     "data": {
      "text/plain": [
       "function"
      ]
     },
     "execution_count": 70,
     "metadata": {},
     "output_type": "execute_result"
    }
   ],
   "source": [
    "type(handle_commas)"
   ]
  },
  {
   "cell_type": "markdown",
   "id": "d1f369f0",
   "metadata": {},
   "source": [
    "### 8.\n",
    "\n",
    "    Define a function named get_letter_grade. It should accept a number and return the letter grade associated with that number (A-F)."
   ]
  },
  {
   "cell_type": "markdown",
   "id": "5f3a96dd",
   "metadata": {},
   "source": [
    "### Add this file to the .py file"
   ]
  },
  {
   "cell_type": "code",
   "execution_count": 71,
   "id": "aad378ff",
   "metadata": {},
   "outputs": [],
   "source": [
    "def get_letter_grade(grade):\n",
    "    if grade >= 90:\n",
    "        letter_grade = 'A'\n",
    "    elif grade >= 80:\n",
    "        letter_grade = 'B'\n",
    "    elif grade >= 70:\n",
    "        letter_grade = 'C'\n",
    "    else:\n",
    "        letter_grade = 'F' \n",
    "        \n",
    "    return letter_grade"
   ]
  },
  {
   "cell_type": "code",
   "execution_count": 72,
   "id": "dfa35e4f",
   "metadata": {},
   "outputs": [
    {
     "data": {
      "text/plain": [
       "'B'"
      ]
     },
     "execution_count": 72,
     "metadata": {},
     "output_type": "execute_result"
    }
   ],
   "source": [
    "get_letter_grade(86)"
   ]
  },
  {
   "cell_type": "markdown",
   "id": "982ca90e",
   "metadata": {},
   "source": [
    "### 9.\n",
    "\n",
    "    Define a function named remove_vowels that accepts a string and returns a string with all the vowels removed."
   ]
  },
  {
   "cell_type": "markdown",
   "id": "38600626",
   "metadata": {},
   "source": [
    "### Add this file to the .py file"
   ]
  },
  {
   "cell_type": "code",
   "execution_count": 73,
   "id": "85c76540",
   "metadata": {},
   "outputs": [],
   "source": [
    "def remove_vowels(string):\n",
    "    new_string = ''\n",
    "\n",
    "    for char in string:\n",
    "        if not is_vowel(char):\n",
    "            new_string += char\n",
    "            \n",
    "    return new_string"
   ]
  },
  {
   "cell_type": "code",
   "execution_count": 74,
   "id": "e974b934",
   "metadata": {},
   "outputs": [
    {
     "data": {
      "text/plain": [
       "'rmv'"
      ]
     },
     "execution_count": 74,
     "metadata": {},
     "output_type": "execute_result"
    }
   ],
   "source": [
    "remove_vowels('remove')"
   ]
  },
  {
   "cell_type": "markdown",
   "id": "04fe8f81",
   "metadata": {},
   "source": [
    "### 10. \n",
    "\n",
    "    Define a function named normalize_name. It should accept a string and return a valid python identifier, that is:\n",
    "- anything that is not a valid python identifier should be removed\n",
    "- leading and trailing whitespace should be removed\n",
    "- everything should be lowercase\n",
    "- spaces should be replaced with underscores\n",
    "- for example:\n",
    "    - Name will become name\n",
    "    - First Name will become first_name\n",
    "    - % Completed will become completed"
   ]
  },
  {
   "cell_type": "markdown",
   "id": "d973ad29",
   "metadata": {},
   "source": [
    "### Add this file to the .py file"
   ]
  },
  {
   "cell_type": "code",
   "execution_count": 76,
   "id": "174a8b56",
   "metadata": {},
   "outputs": [],
   "source": [
    "def normalize_name(string):\n",
    "    string = string.strip().lower().replace(' ','_')\n",
    "    \n",
    "    new_string = ''\n",
    "    \n",
    "    for char in string:\n",
    "        if char.isalpha() or char.isdigit() or char == '_':\n",
    "            new_string += char\n",
    "    new_string = new_string.strip('_')\n",
    "    \n",
    "    return new_string"
   ]
  },
  {
   "cell_type": "code",
   "execution_count": 77,
   "id": "729df448",
   "metadata": {},
   "outputs": [
    {
     "data": {
      "text/plain": [
       "'john'"
      ]
     },
     "execution_count": 77,
     "metadata": {},
     "output_type": "execute_result"
    }
   ],
   "source": [
    "normalize_name('John')"
   ]
  },
  {
   "cell_type": "code",
   "execution_count": 78,
   "id": "dd9dc530",
   "metadata": {},
   "outputs": [
    {
     "data": {
      "text/plain": [
       "'john_doe'"
      ]
     },
     "execution_count": 78,
     "metadata": {},
     "output_type": "execute_result"
    }
   ],
   "source": [
    "normalize_name('John Doe')"
   ]
  },
  {
   "cell_type": "markdown",
   "id": "e31e2ae3",
   "metadata": {},
   "source": [
    "### 11.\n",
    "\n",
    "    Write a funticion named cumulative_sum that accepts a list of numbers and returns a list that is the cumulative sum of the numbers in the list.\n",
    "    - cumulative_sum([1, 1, 1]) returns [1, 2, 3]\n",
    "    - cumulative_sum([1, 2, 3, 4]) returns [1, 3, 6, 10]"
   ]
  },
  {
   "cell_type": "markdown",
   "id": "569579f8",
   "metadata": {},
   "source": [
    "### Add this file to .py"
   ]
  },
  {
   "cell_type": "code",
   "execution_count": 80,
   "id": "7e261ff5",
   "metadata": {},
   "outputs": [],
   "source": [
    "def cumulative_sum(ls):\n",
    "    total = 0 \n",
    "    some_sums = []\n",
    "\n",
    "    for numb in ls:\n",
    "        total += numb\n",
    "        some_sums.append(total)\n",
    "\n",
    "    return some_sums"
   ]
  },
  {
   "cell_type": "code",
   "execution_count": null,
   "id": "781dda16",
   "metadata": {},
   "outputs": [],
   "source": [
    "### don't forget to add the brackets"
   ]
  },
  {
   "cell_type": "code",
   "execution_count": 82,
   "id": "dcdbdbe8",
   "metadata": {},
   "outputs": [
    {
     "data": {
      "text/plain": [
       "[1, 3, 6]"
      ]
     },
     "execution_count": 82,
     "metadata": {},
     "output_type": "execute_result"
    }
   ],
   "source": [
    "cumulative_sum([1,2,3])"
   ]
  },
  {
   "cell_type": "code",
   "execution_count": 83,
   "id": "02452101",
   "metadata": {},
   "outputs": [
    {
     "data": {
      "text/plain": [
       "[4, 9, 15]"
      ]
     },
     "execution_count": 83,
     "metadata": {},
     "output_type": "execute_result"
    }
   ],
   "source": [
    "cumulative_sum([4,5,6])"
   ]
  },
  {
   "cell_type": "code",
   "execution_count": 84,
   "id": "0fd11470",
   "metadata": {},
   "outputs": [
    {
     "data": {
      "text/plain": [
       "[7, 15, 21]"
      ]
     },
     "execution_count": 84,
     "metadata": {},
     "output_type": "execute_result"
    }
   ],
   "source": [
    "cumulative_sum([7,8,6])"
   ]
  },
  {
   "cell_type": "code",
   "execution_count": null,
   "id": "183060cf",
   "metadata": {},
   "outputs": [],
   "source": []
  }
 ],
 "metadata": {
  "kernelspec": {
   "display_name": "Python 3 (ipykernel)",
   "language": "python",
   "name": "python3"
  },
  "language_info": {
   "codemirror_mode": {
    "name": "ipython",
    "version": 3
   },
   "file_extension": ".py",
   "mimetype": "text/x-python",
   "name": "python",
   "nbconvert_exporter": "python",
   "pygments_lexer": "ipython3",
   "version": "3.9.13"
  }
 },
 "nbformat": 4,
 "nbformat_minor": 5
}
