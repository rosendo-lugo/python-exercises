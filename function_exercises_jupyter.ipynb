{
 "cells": [
  {
   "cell_type": "markdown",
   "id": "6492486d",
   "metadata": {},
   "source": [
    "### 1.\n",
    "    Define a function named is_two. It should accept one input and return True if the passed input is either the number or the string 2, False otherwise."
   ]
  },
  {
   "cell_type": "code",
   "execution_count": 8,
   "id": "936d3442",
   "metadata": {},
   "outputs": [
    {
     "ename": "SyntaxError",
     "evalue": "invalid syntax (432886290.py, line 3)",
     "output_type": "error",
     "traceback": [
      "\u001b[0;36m  Input \u001b[0;32mIn [8]\u001b[0;36m\u001b[0m\n\u001b[0;31m    def is_two(2):\u001b[0m\n\u001b[0m               ^\u001b[0m\n\u001b[0;31mSyntaxError\u001b[0m\u001b[0;31m:\u001b[0m invalid syntax\n"
     ]
    }
   ],
   "source": [
    "# n = int(input('Enter the number or letter 2: '))\n",
    "\n",
    "def is_two(2):\n",
    "    i = 2\n",
    "    if i == a:\n",
    "#         return True\n",
    "        print('hi')\n",
    "    else:\n",
    "#         return False\n",
    "        print('Boo')\n",
    "        \n"
   ]
  },
  {
   "cell_type": "code",
   "execution_count": 17,
   "id": "e6bf6dd6",
   "metadata": {
    "scrolled": true
   },
   "outputs": [
    {
     "name": "stdout",
     "output_type": "stream",
     "text": [
      "Enter the number or letter 2: 4\n",
      "Boo\n"
     ]
    }
   ],
   "source": [
    "a = input('Enter the number or letter 2: ')\n",
    "\n",
    "if a == 2 or a == '2':\n",
    "#         return True\n",
    "    print('hi')\n",
    "else:\n",
    "#         return False\n",
    "    print('Boo')"
   ]
  },
  {
   "cell_type": "code",
   "execution_count": 31,
   "id": "8b30ef0c",
   "metadata": {},
   "outputs": [
    {
     "data": {
      "text/plain": [
       "str"
      ]
     },
     "execution_count": 31,
     "metadata": {},
     "output_type": "execute_result"
    }
   ],
   "source": [
    "type(a)"
   ]
  },
  {
   "cell_type": "code",
   "execution_count": 10,
   "id": "55e354a4",
   "metadata": {},
   "outputs": [],
   "source": [
    "a = int\n",
    "\n",
    "def is_two(a=2, b='two'):\n",
    "    if i == a and i == b:\n",
    "        return True\n",
    "    else:\n",
    "        return False\n",
    "    \n"
   ]
  },
  {
   "cell_type": "code",
   "execution_count": 11,
   "id": "00727ae9",
   "metadata": {},
   "outputs": [
    {
     "ename": "NameError",
     "evalue": "name 'i' is not defined",
     "output_type": "error",
     "traceback": [
      "\u001b[0;31m---------------------------------------------------------------------------\u001b[0m",
      "\u001b[0;31mNameError\u001b[0m                                 Traceback (most recent call last)",
      "Input \u001b[0;32mIn [11]\u001b[0m, in \u001b[0;36m<cell line: 1>\u001b[0;34m()\u001b[0m\n\u001b[0;32m----> 1\u001b[0m \u001b[43mis_two\u001b[49m\u001b[43m(\u001b[49m\u001b[38;5;241;43m2\u001b[39;49m\u001b[43m,\u001b[49m\u001b[38;5;124;43m'\u001b[39;49m\u001b[38;5;124;43mtwo\u001b[39;49m\u001b[38;5;124;43m'\u001b[39;49m\u001b[43m)\u001b[49m\n",
      "Input \u001b[0;32mIn [10]\u001b[0m, in \u001b[0;36mis_two\u001b[0;34m(a, b)\u001b[0m\n\u001b[1;32m      1\u001b[0m \u001b[38;5;28;01mdef\u001b[39;00m \u001b[38;5;21mis_two\u001b[39m(a\u001b[38;5;241m=\u001b[39m\u001b[38;5;241m2\u001b[39m, b\u001b[38;5;241m=\u001b[39m\u001b[38;5;124m'\u001b[39m\u001b[38;5;124mtwo\u001b[39m\u001b[38;5;124m'\u001b[39m):\n\u001b[0;32m----> 2\u001b[0m     \u001b[38;5;28;01mif\u001b[39;00m \u001b[43mi\u001b[49m \u001b[38;5;241m==\u001b[39m a \u001b[38;5;129;01mand\u001b[39;00m i \u001b[38;5;241m==\u001b[39m b:\n\u001b[1;32m      3\u001b[0m         \u001b[38;5;28;01mreturn\u001b[39;00m \u001b[38;5;28;01mTrue\u001b[39;00m\n\u001b[1;32m      4\u001b[0m     \u001b[38;5;28;01melse\u001b[39;00m:\n",
      "\u001b[0;31mNameError\u001b[0m: name 'i' is not defined"
     ]
    }
   ],
   "source": []
  },
  {
   "cell_type": "code",
   "execution_count": 3,
   "id": "1974787b",
   "metadata": {},
   "outputs": [
    {
     "name": "stdout",
     "output_type": "stream",
     "text": [
      "Enter the number or letter 2: 2\n",
      "hi\n"
     ]
    }
   ],
   "source": [
    "a = input('Enter the number or letter 2: ')\n",
    "\n",
    "if a.isdigit() == True:\n",
    "#         return True\n",
    "    a = int(a)\n",
    "if a == 2 or a == 'two':\n",
    "    print('hi')\n",
    "else:\n",
    "#         return False\n",
    "    print('Boo')"
   ]
  },
  {
   "cell_type": "code",
   "execution_count": 54,
   "id": "7984365a",
   "metadata": {},
   "outputs": [],
   "source": [
    "n = '2'"
   ]
  },
  {
   "cell_type": "code",
   "execution_count": 36,
   "id": "58528453",
   "metadata": {},
   "outputs": [
    {
     "data": {
      "text/plain": [
       "str"
      ]
     },
     "execution_count": 36,
     "metadata": {},
     "output_type": "execute_result"
    }
   ],
   "source": [
    "type(n)"
   ]
  },
  {
   "cell_type": "code",
   "execution_count": 37,
   "id": "9ed5f470",
   "metadata": {},
   "outputs": [
    {
     "data": {
      "text/plain": [
       "True"
      ]
     },
     "execution_count": 37,
     "metadata": {},
     "output_type": "execute_result"
    }
   ],
   "source": [
    "n.isdigit()"
   ]
  },
  {
   "cell_type": "code",
   "execution_count": 38,
   "id": "cc2120ac",
   "metadata": {},
   "outputs": [
    {
     "data": {
      "text/plain": [
       "True"
      ]
     },
     "execution_count": 38,
     "metadata": {},
     "output_type": "execute_result"
    }
   ],
   "source": [
    "n.strip().isdigit()"
   ]
  },
  {
   "cell_type": "code",
   "execution_count": 43,
   "id": "c9c3c944",
   "metadata": {},
   "outputs": [
    {
     "name": "stdout",
     "output_type": "stream",
     "text": [
      "Enter the number or letter 2: 2\n"
     ]
    }
   ],
   "source": [
    "a = input('Enter the number or letter 2: ')"
   ]
  },
  {
   "cell_type": "code",
   "execution_count": 44,
   "id": "b076a498",
   "metadata": {},
   "outputs": [
    {
     "data": {
      "text/plain": [
       "str"
      ]
     },
     "execution_count": 44,
     "metadata": {},
     "output_type": "execute_result"
    }
   ],
   "source": [
    "type(a)"
   ]
  },
  {
   "cell_type": "code",
   "execution_count": 7,
   "id": "c5cff876",
   "metadata": {},
   "outputs": [
    {
     "name": "stdout",
     "output_type": "stream",
     "text": [
      "Enter the number or letter 2: jfaslk;\n",
      "False\n"
     ]
    }
   ],
   "source": [
    "def is_two(a):\n",
    "    a = input('Enter the number or letter 2: ')\n",
    "    if a.isdigit() == True:\n",
    "        a = int(a)\n",
    "    if a == 2 or a == 'two':\n",
    "        return True\n",
    "    else:\n",
    "        return False\n",
    "im_lost = is_two(a)\n",
    "print(im_lost)\n",
    "\n"
   ]
  },
  {
   "cell_type": "markdown",
   "id": "0ccccd06",
   "metadata": {},
   "source": [
    "## 2. \n",
    "    Define a function named is_vowel. It should return True if the passed string is a vowel, False otherwise."
   ]
  },
  {
   "cell_type": "code",
   "execution_count": null,
   "id": "d2a61031",
   "metadata": {},
   "outputs": [],
   "source": [
    "def is_vowel():\n",
    "    if vowel == [a,e,i,o,u]:\n",
    "        return True\n",
    "    else:\n",
    "        return False\n",
    "    "
   ]
  },
  {
   "cell_type": "code",
   "execution_count": 8,
   "id": "9bce31a4",
   "metadata": {},
   "outputs": [
    {
     "name": "stdout",
     "output_type": "stream",
     "text": [
      "Enter a vowel:\n",
      " a\n"
     ]
    }
   ],
   "source": [
    "vowel = input('Enter a vowel:\\n ')"
   ]
  },
  {
   "cell_type": "code",
   "execution_count": 9,
   "id": "a6b53e72",
   "metadata": {},
   "outputs": [
    {
     "data": {
      "text/plain": [
       "'a'"
      ]
     },
     "execution_count": 9,
     "metadata": {},
     "output_type": "execute_result"
    }
   ],
   "source": [
    "vowel"
   ]
  },
  {
   "cell_type": "code",
   "execution_count": null,
   "id": "ac33db04",
   "metadata": {},
   "outputs": [],
   "source": [
    "if vowel != [a,e,i,o,u]\n",
    "#     return False\n",
    "    print('False')\n",
    "else:\n",
    "    print('True')"
   ]
  },
  {
   "cell_type": "code",
   "execution_count": 17,
   "id": "85fc7fbf",
   "metadata": {},
   "outputs": [
    {
     "name": "stdout",
     "output_type": "stream",
     "text": [
      "Enter a vowel:\n",
      " a\n",
      "False\n"
     ]
    }
   ],
   "source": [
    "vowel = input('Enter a vowel:\\n ')\n",
    "vowel_ls = ['a','e','i','o','u']\n",
    "if vowel == vowel_ls:\n",
    "#     return False\n",
    "    print('True')\n",
    "else:\n",
    "    print('False')"
   ]
  },
  {
   "cell_type": "code",
   "execution_count": 26,
   "id": "c04f8d31",
   "metadata": {},
   "outputs": [
    {
     "name": "stdout",
     "output_type": "stream",
     "text": [
      "Enter a vowel:\n",
      " a\n"
     ]
    }
   ],
   "source": [
    "vowel = input('Enter a vowel:\\n ')\n",
    "vowel_ls = ['a','e','i','o','u']\n",
    "\n",
    "result = True\n",
    "for vowel in vowel_ls:\n",
    "    if vowel == 'a':\n",
    "        result = False\n",
    "        break\n",
    "    if vowel == 'e':\n",
    "        result = False\n",
    "        break\n",
    "    if vowel == 'i':\n",
    "        result = False\n",
    "        break\n",
    "    if vowel == 'o':\n",
    "        result = False\n",
    "        break\n",
    "    if vowel == 'u':\n",
    "        result = False\n",
    "        break\n"
   ]
  },
  {
   "cell_type": "code",
   "execution_count": 34,
   "id": "10753685",
   "metadata": {},
   "outputs": [
    {
     "name": "stdout",
     "output_type": "stream",
     "text": [
      "Enter a vowel:\n",
      " a\n"
     ]
    },
    {
     "ename": "TypeError",
     "evalue": "string indices must be integers",
     "output_type": "error",
     "traceback": [
      "\u001b[0;31m---------------------------------------------------------------------------\u001b[0m",
      "\u001b[0;31mTypeError\u001b[0m                                 Traceback (most recent call last)",
      "Input \u001b[0;32mIn [34]\u001b[0m, in \u001b[0;36m<cell line: 5>\u001b[0;34m()\u001b[0m\n\u001b[1;32m      4\u001b[0m \u001b[38;5;66;03m# result = True\u001b[39;00m\n\u001b[1;32m      5\u001b[0m \u001b[38;5;28;01mfor\u001b[39;00m vowel \u001b[38;5;129;01min\u001b[39;00m vowel_ls:\n\u001b[0;32m----> 6\u001b[0m     \u001b[38;5;28;01mif\u001b[39;00m \u001b[43mvowel\u001b[49m\u001b[43m[\u001b[49m\u001b[38;5;124;43m'\u001b[39;49m\u001b[38;5;124;43ma\u001b[39;49m\u001b[38;5;124;43m'\u001b[39;49m\u001b[43m]\u001b[49m \u001b[38;5;241m==\u001b[39m user_input:\n\u001b[1;32m      7\u001b[0m         \u001b[38;5;28mprint\u001b[39m(vowel[\u001b[38;5;124m'\u001b[39m\u001b[38;5;124ma\u001b[39m\u001b[38;5;124m'\u001b[39m])\n",
      "\u001b[0;31mTypeError\u001b[0m: string indices must be integers"
     ]
    }
   ],
   "source": [
    "user_input = input('Enter a vowel:\\n ')\n",
    "vowel_ls = ['a','e','i','o','u']\n",
    "\n",
    "for vowel in vowel_ls:\n",
    "    if vowel['a'] == user_input:\n",
    "        print(vowel['a'])\n"
   ]
  },
  {
   "cell_type": "code",
   "execution_count": 40,
   "id": "6c4367f5",
   "metadata": {},
   "outputs": [
    {
     "name": "stdout",
     "output_type": "stream",
     "text": [
      "Enter a vowel:\n",
      " g\n",
      "False\n"
     ]
    }
   ],
   "source": [
    "user_input = input('Enter a vowel:\\n ')\n",
    "\n",
    "if user_input.lower() in 'aeiou':\n",
    "    print('True')\n",
    "if user_input.upper() in 'AEIOU':\n",
    "    print('True')\n",
    "else:\n",
    "    print('False')\n"
   ]
  },
  {
   "cell_type": "code",
   "execution_count": 47,
   "id": "6bab5c21",
   "metadata": {},
   "outputs": [
    {
     "name": "stdout",
     "output_type": "stream",
     "text": [
      "Enter a vowel:  A\n",
      "True\n"
     ]
    }
   ],
   "source": [
    "def is_vowel():\n",
    "    user_input = input('Enter a vowel:  ')\n",
    "\n",
    "    if user_input.lower() in 'aeiou':\n",
    "        return True\n",
    "    elif user_input.upper() in 'AEIOU':\n",
    "        return True\n",
    "    else:\n",
    "        return False\n",
    "        \n",
    "im_lost = is_vowel()\n",
    "print(im_lost)"
   ]
  },
  {
   "cell_type": "markdown",
   "id": "7e6f47f1",
   "metadata": {},
   "source": [
    "## 3. \n",
    "    Define a function named is_consonant. It should return True if the passed string is a consonant, False otherwise. Use your is_vowel function to accomplish this."
   ]
  },
  {
   "cell_type": "code",
   "execution_count": 49,
   "id": "69e42271",
   "metadata": {},
   "outputs": [
    {
     "name": "stdout",
     "output_type": "stream",
     "text": [
      "Enter a vowel:  a\n",
      "False\n"
     ]
    }
   ],
   "source": [
    "def is_vowel():\n",
    "    user_input = input('Enter a vowel:  ')\n",
    "\n",
    "    if user_input.lower() not in 'aeiou':\n",
    "        return True\n",
    "    elif user_input.upper() not in 'AEIOU':\n",
    "        return True\n",
    "    else:\n",
    "        return False\n",
    "        \n",
    "im_lost = is_vowel()\n",
    "print(im_lost)"
   ]
  },
  {
   "cell_type": "markdown",
   "id": "8fed2183",
   "metadata": {},
   "source": [
    "## 4. \n",
    "    Define a function that accepts a string that is a word. The function should capitalize the first letter of the word if the word starts with a consonant."
   ]
  },
  {
   "cell_type": "code",
   "execution_count": null,
   "id": "ac73fa71",
   "metadata": {},
   "outputs": [],
   "source": [
    "# while True:\n",
    "user_input = input('Enter a your first name:  ')\n",
    "\n",
    "first_letter_lower_case = user_input[0].lower() + user_input[1:]\n",
    "\n",
    "print('Hi:' + str(first_letter_lower_case))\n",
    "    \n",
    "#     if user_input.isdigit() == True:\n",
    "#         print('Invalid entry, this is a number. Try again!')\n",
    "#     elif user_input == .lower()\n",
    "#         print('lower case')\n",
    "\n",
    "    \n",
    "    "
   ]
  },
  {
   "cell_type": "code",
   "execution_count": null,
   "id": "65f7971d",
   "metadata": {},
   "outputs": [],
   "source": []
  }
 ],
 "metadata": {
  "kernelspec": {
   "display_name": "Python 3 (ipykernel)",
   "language": "python",
   "name": "python3"
  },
  "language_info": {
   "codemirror_mode": {
    "name": "ipython",
    "version": 3
   },
   "file_extension": ".py",
   "mimetype": "text/x-python",
   "name": "python",
   "nbconvert_exporter": "python",
   "pygments_lexer": "ipython3",
   "version": "3.9.13"
  }
 },
 "nbformat": 4,
 "nbformat_minor": 5
}
